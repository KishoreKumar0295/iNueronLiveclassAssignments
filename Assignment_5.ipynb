{
 "cells": [
  {
   "cell_type": "code",
   "execution_count": 2,
   "id": "df02df16",
   "metadata": {},
   "outputs": [
    {
     "data": {
      "text/plain": [
       "dict"
      ]
     },
     "execution_count": 2,
     "metadata": {},
     "output_type": "execute_result"
    }
   ],
   "source": [
    "# 1. What does an empty dictionary's code look like?\n",
    "d={}\n",
    "type(d)"
   ]
  },
  {
   "cell_type": "code",
   "execution_count": 6,
   "id": "1d1daece",
   "metadata": {},
   "outputs": [
    {
     "name": "stdout",
     "output_type": "stream",
     "text": [
      "dict_keys(['foo'])\n",
      "dict_values([42])\n"
     ]
    }
   ],
   "source": [
    "# 2. What is the value of a dictionary value with the key 'foo' and the value 42?\n",
    "d={'foo':42} # here key is foo and value is 42\n",
    "print(d.keys())\n",
    "print(d.values())"
   ]
  },
  {
   "cell_type": "markdown",
   "id": "e33d3ff1",
   "metadata": {},
   "source": [
    "# 3. What is the most significant distinction between a dictionary and a list?\n",
    "Structure: A dictionary is a key-value pair data structure, while a list is an ordered collection of elements.\n",
    "\n",
    "Accessing Elements: In a dictionary, elements are accessed by their unique keys, while in a list, elements are accessed by their index position.\n",
    "\n",
    "Data Organization: Dictionaries organize data based on keys, providing a way to map keys to values. Lists organize data based on the order of elements.\n",
    "\n",
    "Mutability: Both dictionaries and lists are mutable, but dictionaries allow modification of values associated with keys, while lists allow modification of elements.\n",
    "\n",
    "Use Cases: Dictionaries are useful for representing structured data with named attributes or properties, while lists are commonly used for sequential or ordered data."
   ]
  },
  {
   "cell_type": "markdown",
   "id": "cfa0d0c2",
   "metadata": {},
   "source": [
    "# 4. What happens if you try to access spam['foo'] if spam is {'bar': 100}?\n",
    "\n",
    "If you try to access spam['foo'] and spam is {'bar': 100}, a KeyError will be raised.\n",
    "\n",
    "This is because the key 'foo' does not exist in the spam dictionary. The KeyError is raised when you try to access a key that is not present in the dictionary."
   ]
  },
  {
   "cell_type": "markdown",
   "id": "ec35aa26",
   "metadata": {},
   "source": [
    "# 5. If a dictionary is stored in spam, what is the difference between the expressions 'cat' in spam and 'cat' in spam.keys()?\n",
    "\n",
    "'cat' in spam checks if the key 'cat' exists in the dictionary spam.\n",
    "\n",
    "'cat' in spam.keys() also checks if the key 'cat' exists in the dictionary spam but explicitly uses the keys() method.\n",
    "\n",
    "Both expressions determine the presence of the key 'cat' in the dictionary spam."
   ]
  },
  {
   "cell_type": "code",
   "execution_count": 15,
   "id": "a663a44b",
   "metadata": {},
   "outputs": [
    {
     "data": {
      "text/plain": [
       "dict_keys(['cat'])"
      ]
     },
     "execution_count": 15,
     "metadata": {},
     "output_type": "execute_result"
    }
   ],
   "source": [
    "spam={'cat':'pet'}\n",
    "spam['cat']\n",
    "spam.keys()"
   ]
  },
  {
   "cell_type": "code",
   "execution_count": 17,
   "id": "54b677bc",
   "metadata": {},
   "outputs": [
    {
     "data": {
      "text/plain": [
       "dict_values(['pet'])"
      ]
     },
     "execution_count": 17,
     "metadata": {},
     "output_type": "execute_result"
    }
   ],
   "source": [
    "# 6. If a dictionary is stored in spam, what is the difference between the expressions 'cat' in spam and 'cat' in spam.values()?\n",
    "\n",
    "# 'cat' in spam checks if the key 'cat' exists in the dictionary spam.\n",
    "\n",
    "# 'cat' in spam.values() also checks if the key 'cat' exists in the dictionary spam but explicitly uses the values() method.\n",
    "\n",
    "# Both expressions determine the presence of the key 'cat' in the dictionary spam.\n",
    "\n",
    "\n",
    "spam['cat']\n",
    "spam.values()"
   ]
  },
  {
   "cell_type": "code",
   "execution_count": 18,
   "id": "e62eeec5",
   "metadata": {},
   "outputs": [
    {
     "data": {
      "text/plain": [
       "'black'"
      ]
     },
     "execution_count": 18,
     "metadata": {},
     "output_type": "execute_result"
    }
   ],
   "source": [
    "# 7. What is a shortcut for the following code?\n",
    "# if 'color' not in spam:\n",
    "# spam['color'] = 'black'\n",
    "\n",
    "\n",
    "# A shortcut for the given code is to use the dict.setdefault() method. Here's the equivalent code:\n",
    "spam.setdefault('color', 'black')\n",
    "\n"
   ]
  },
  {
   "cell_type": "code",
   "execution_count": 19,
   "id": "d082f853",
   "metadata": {},
   "outputs": [
    {
     "name": "stdout",
     "output_type": "stream",
     "text": [
      "{'age': 30, 'city': 'New York', 'name': 'John'}\n"
     ]
    }
   ],
   "source": [
    "# 8. How do you \"pretty print\" dictionary values using which module and function?\n",
    "# To \"pretty print\" dictionary values in Python, you can use the pprint module and its pprint() function. \n",
    "# The pprint module provides a way to format and display complex data structures, \n",
    "# such as dictionaries, in a more readable and organized manner. \n",
    "# Here's an example:\n",
    "import pprint\n",
    "\n",
    "my_dict = {'name': 'John', 'age': 30, 'city': 'New York'}\n",
    "\n",
    "pprint.pprint(my_dict)\n"
   ]
  },
  {
   "cell_type": "code",
   "execution_count": null,
   "id": "0857dff4",
   "metadata": {},
   "outputs": [],
   "source": []
  }
 ],
 "metadata": {
  "kernelspec": {
   "display_name": "Python 3 (ipykernel)",
   "language": "python",
   "name": "python3"
  },
  "language_info": {
   "codemirror_mode": {
    "name": "ipython",
    "version": 3
   },
   "file_extension": ".py",
   "mimetype": "text/x-python",
   "name": "python",
   "nbconvert_exporter": "python",
   "pygments_lexer": "ipython3",
   "version": "3.9.13"
  }
 },
 "nbformat": 4,
 "nbformat_minor": 5
}
