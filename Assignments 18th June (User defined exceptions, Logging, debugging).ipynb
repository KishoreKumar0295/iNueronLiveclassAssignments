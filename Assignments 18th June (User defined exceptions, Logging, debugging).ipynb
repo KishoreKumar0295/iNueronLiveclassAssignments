{
 "cells": [
  {
   "cell_type": "raw",
   "id": "023fc19d",
   "metadata": {},
   "source": [
    "1. What is the role of the 'else' block in a try-except statement? Provide an example\n",
    "scenario where it would be useful.\n"
   ]
  },
  {
   "cell_type": "code",
   "execution_count": 2,
   "id": "101eb430",
   "metadata": {},
   "outputs": [
    {
     "name": "stdout",
     "output_type": "stream",
     "text": [
      "Enter numerator: 2\n",
      "Enter denominator: 0\n",
      "Error: Cannot divide by zero.\n"
     ]
    }
   ],
   "source": [
    "# The role of the else block in a try except statement is to provide a statement when no exceptions are occur in try exception block\n",
    "# Ex:\n",
    "try:\n",
    "    # Code that may raise an exception\n",
    "    x=int(input('Enter numerator: '))\n",
    "    y=int(input('Enter denominator: '))\n",
    "    result = x / y\n",
    "    print(result)\n",
    "except ZeroDivisionError:\n",
    "    # Code to handle ZeroDivisionError exception\n",
    "    print(\"Error: Cannot divide by zero.\")\n",
    "else:\n",
    "    # Code to be executed if no exceptions occur\n",
    "    print(\"Division result:\", result)\n"
   ]
  },
  {
   "cell_type": "raw",
   "id": "b50ffe40",
   "metadata": {},
   "source": [
    "2. Can a try-except block be nested inside another try-except block? Explain with an example."
   ]
  },
  {
   "cell_type": "code",
   "execution_count": 4,
   "id": "3849739a",
   "metadata": {},
   "outputs": [
    {
     "name": "stdout",
     "output_type": "stream",
     "text": [
      "Enter numerator: 2\n",
      "Enter denominator: 0\n",
      "Error: Cannot divide by zero.\n"
     ]
    }
   ],
   "source": [
    "# yes, try-except block can be nested inside another try-except block based on the scinarios\n",
    "# This is known as nested exception handling. \n",
    "# It allows you to handle different types of exceptions at different levels of your code.\n",
    "\n",
    "\n",
    "\n",
    "# Here's an example:\n",
    "\n",
    "try:\n",
    "    # Outer try block\n",
    "    try:\n",
    "        # Inner try block\n",
    "        # Code that may raise an exception\n",
    "        x=int(input('Enter numerator: '))\n",
    "        y=int(input('Enter denominator: '))\n",
    "        result = x / y\n",
    "        \n",
    "        print(result)\n",
    "    except ZeroDivisionError:\n",
    "        # Handling ZeroDivisionError inside inner try block\n",
    "        print(\"Error: Cannot divide by zero.\")\n",
    "except Exception:\n",
    "    # Handling other exceptions inside outer try block\n",
    "    print(\"An error occurred.\")\n"
   ]
  },
  {
   "cell_type": "code",
   "execution_count": 7,
   "id": "c963edc0",
   "metadata": {},
   "outputs": [],
   "source": [
    "# How can you create a custom exception class in Python? Provide an example that demonstrates its usage.\n",
    "class CustomException(Exception):\n",
    "    pass\n",
    "\n"
   ]
  },
  {
   "cell_type": "code",
   "execution_count": 8,
   "id": "94e360de",
   "metadata": {},
   "outputs": [
    {
     "ename": "CustomException",
     "evalue": "This is a custom exception.",
     "output_type": "error",
     "traceback": [
      "\u001b[1;31m---------------------------------------------------------------------------\u001b[0m",
      "\u001b[1;31mCustomException\u001b[0m                           Traceback (most recent call last)",
      "\u001b[1;32m~\\AppData\\Local\\Temp\\ipykernel_3676\\83444238.py\u001b[0m in \u001b[0;36m<module>\u001b[1;34m\u001b[0m\n\u001b[0;32m      1\u001b[0m \u001b[1;31m# Raise the custom exception\u001b[0m\u001b[1;33m\u001b[0m\u001b[1;33m\u001b[0m\u001b[0m\n\u001b[1;32m----> 2\u001b[1;33m \u001b[1;32mraise\u001b[0m \u001b[0mCustomException\u001b[0m\u001b[1;33m(\u001b[0m\u001b[1;34m\"This is a custom exception.\"\u001b[0m\u001b[1;33m)\u001b[0m\u001b[1;33m\u001b[0m\u001b[1;33m\u001b[0m\u001b[0m\n\u001b[0m",
      "\u001b[1;31mCustomException\u001b[0m: This is a custom exception."
     ]
    }
   ],
   "source": [
    "# Raise the custom exception\n",
    "raise CustomException(\"This is a custom exception.\")"
   ]
  },
  {
   "cell_type": "markdown",
   "id": "21962bae",
   "metadata": {},
   "source": [
    "# 4. What are some common exceptions that are built-in to Python?\n",
    "\n",
    "<ul>\n",
    "<h1>Some common built-in exceptions in Python include:</h1>\n",
    "<li>ZeroDivisionError: Raised when division or modulo operation is performed with zero as the divisor.</li>\n",
    "<li>TypeError: Raised when an operation or function is applied to an object of an inappropriate type.</li>\n",
    "<li>ValueError: Raised when a function receives an argument of the correct type but an inappropriate value.</li>\n",
    "<li>FileNotFoundError: Raised when a file or directory is requested but cannot be found.</li>\n",
    "<li>IndexError: Raised when a sequence subscript is out of range.</li>\n",
    "</ul>"
   ]
  },
  {
   "cell_type": "markdown",
   "id": "1f698b1f",
   "metadata": {},
   "source": [
    "### 5. What is logging in Python, and why is it important in software development?\n",
    "Logging in Python is a technique used to record events, messages, or errors that occur during the execution of a program. It provides a standardized way to collect and store log information for debugging, monitoring, and analysis purposes. Logging is important in software development as it allows developers to track the behavior of their code, diagnose issues, and gain insights into the runtime behavior of their applications."
   ]
  },
  {
   "cell_type": "markdown",
   "id": "19202872",
   "metadata": {},
   "source": [
    "### 6. Explain the purpose of log levels in Python logging and provide examples of when each log level would be appropriate.\n"
   ]
  },
  {
   "cell_type": "markdown",
   "id": "6d011afa",
   "metadata": {},
   "source": [
    "<ul>\n",
    "<h3>Log levels in Python logging represent the severity or importance of a log message. They help in categorizing log entries and filtering them based on their importance. Some common log levels in Python logging are: </h3>\n",
    "<li>DEBUG: Detailed information, typically useful for debugging purposes.</li>\n",
    "<li>INFO: General information about the program's execution.</li>\n",
    "<li>WARNING: Indicates a potential issue or something that may cause problems later.</li>\n",
    "<li>ERROR: Indicates a more serious error or exception occurred.</li>\n",
    "<li>CRITICAL: Indicates a critical error that may lead to application failure.</li>\n",
    "<li>Examples:</li>\n",
    "\n",
    "<li>Use DEBUG level for detailed debugging information during development.</li>\n",
    "<li>Use INFO level for general progress or status updates.</li>\n",
    "<li>Use WARNING level for non-critical issues that may require attention.</li>\n",
    "<li>Use ERROR level for handling errors or exceptions.</li>\n",
    "<li>Use CRITICAL level for critical errors that may lead to application failure. </li>\n",
    "</ul>"
   ]
  },
  {
   "cell_type": "markdown",
   "id": "1d91b6ad",
   "metadata": {},
   "source": [
    "### 7. What are log formatters in Python logging, and how can you customise the log message format using formatters?"
   ]
  },
  {
   "cell_type": "markdown",
   "id": "eb1356e8",
   "metadata": {},
   "source": [
    "<ul>\n",
    "<p>Log formatters in Python logging define the format of log messages. They provide a way to customize the appearance of log entries, including the timestamp, log level, log message, and additional details. You can use different log formatters to generate log messages in various formats, such as plain text, JSON, or XML. Formatters are associated with handlers, which determine where the log messages are directed (e.g., console, file, network).\n",
    "To customize the log message format using formatters, you can create an instance of a formatter class, configure its properties (e.g., date format, log message format), and associate it with a handler.</p>\n",
    "</ul>"
   ]
  },
  {
   "cell_type": "code",
   "execution_count": 12,
   "id": "570bfe3d",
   "metadata": {},
   "outputs": [],
   "source": [
    "import logging\n",
    "\n",
    "# Create a formatter\n",
    "formatter = logging.Formatter('%(asctime)s - %(levelname)s - %(message)s')\n",
    "\n",
    "# Create a handler and associate the formatter\n",
    "handler = logging.StreamHandler()\n",
    "handler.setFormatter(formatter)\n",
    "\n",
    "# Create a logger and add the handler\n",
    "logger = logging.getLogger('my_logger')\n",
    "logger.addHandler(handler)\n",
    "\n",
    "# Log a message\n",
    "logger.info('This is an information message.')\n"
   ]
  },
  {
   "cell_type": "markdown",
   "id": "6b919818",
   "metadata": {},
   "source": [
    "### How can you set up logging to capture log messages from multiple modules or classes in a Python application?"
   ]
  },
  {
   "cell_type": "markdown",
   "id": "7f7b6a87",
   "metadata": {},
   "source": [
    "<ul>\n",
    "<p>To capture log messages from multiple modules or classes in a Python application, you can create a logger instance in each module or class and configure them to use the same logging settings. This way, all log messages from different parts of the application will be directed to the same log file or other logging destinations.</p>\n",
    "</ul>"
   ]
  },
  {
   "cell_type": "code",
   "execution_count": 14,
   "id": "9697fa3a",
   "metadata": {},
   "outputs": [],
   "source": [
    "# In module1.py\n",
    "import logging\n",
    "\n",
    "logger = logging.getLogger(__name__)\n",
    "# Configure logger settings\n",
    "\n",
    "# In module2.py\n",
    "import logging\n",
    "\n",
    "logger = logging.getLogger(__name__)\n",
    "# Configure logger settings\n",
    "\n",
    "# Both module1.py and module2.py will log to the same configured destinations.\n"
   ]
  },
  {
   "cell_type": "markdown",
   "id": "0136d662",
   "metadata": {},
   "source": [
    "### 8. What is the difference between the logging and print statements in Python? When should you use logging over print statements in a real-world application?"
   ]
  },
  {
   "cell_type": "raw",
   "id": "5c63f9e4",
   "metadata": {},
   "source": [
    "The main difference between logging and print statements in Python is their purpose and usage.\n",
    "\n",
    "Print:\n",
    "print statements are primarily used for immediate debugging or displaying information during development. They are convenient for printing variables, messages, or other values to the console or standard output. However, print statements are typically not appropriate for long-term logging or production-level debugging, as they can clutter the output and may need to be removed or commented out later.\n",
    "\n",
    "Logging:\n",
    "Logging, on the other hand, is a dedicated mechanism for recording and managing log information. It provides more control and flexibility, allowing you to categorize log entries, define log levels, customize log formats, and direct logs to different destinations (e.g., console, files). Logging is designed for long-term use and can be enabled or disabled based on configuration settings. It is particularly useful in production environments or when debugging complex applications where print statements may not be sufficient.\n",
    "\n",
    "\n",
    "Real-World:\n",
    "In a real-world application, it is recommended to use logging over print statements for proper logging and debugging purposes. Logging allows you to collect structured logs, control the level of detail, and easily disable or redirect logs without modifying the code. It provides a standardized way to manage logs and enables better troubleshooting, error analysis, and monitoring capabilities."
   ]
  },
  {
   "cell_type": "markdown",
   "id": "c088a238",
   "metadata": {},
   "source": [
    "### 10. Write a Python program that logs a message to a file named \"app.log\" with the following requirements:\n",
    "    ● The log message should be \"Hello, World!\"\n",
    "    ● The log level should be set to \"INFO.\"\n",
    "    ● The log file should append new log entries without overwriting previous ones.\n"
   ]
  },
  {
   "cell_type": "code",
   "execution_count": 16,
   "id": "80648521",
   "metadata": {},
   "outputs": [],
   "source": [
    "# Here's a Python program that logs a message to a file named \"app.log\" with the specified requirements:\n",
    "# Info\n",
    "import logging\n",
    "\n",
    "# Configure logging to write to a file\n",
    "logging.basicConfig(filename='app.log', level=logging.INFO)\n",
    "\n",
    "# Log a message with INFO level\n",
    "logging.info('Hello, World!')\n"
   ]
  },
  {
   "cell_type": "raw",
   "id": "e078e882",
   "metadata": {},
   "source": [
    "Here's a Python program that logs an error message to the console and a file named \"errors.log\" if an exception occurs during the program's execution. The error message includes the exception type and a timestamp:"
   ]
  },
  {
   "cell_type": "markdown",
   "id": "5cdc6e1e",
   "metadata": {},
   "source": [
    "### 11. Create a Python program that logs an error message to the console and a file named \"errors.log\" if an exception occurs during the program's execution. The error message should include the exception type and a timestamp"
   ]
  },
  {
   "cell_type": "code",
   "execution_count": 20,
   "id": "dbcbedd1",
   "metadata": {},
   "outputs": [
    {
     "name": "stderr",
     "output_type": "stream",
     "text": [
      "Traceback (most recent call last):\n",
      "  File \"C:\\Users\\prkum\\AppData\\Local\\Temp\\ipykernel_3676\\3046811653.py\", line 11, in <module>\n",
      "    result = 10 / 0\n",
      "ZeroDivisionError: division by zero\n"
     ]
    }
   ],
   "source": [
    "import logging\n",
    "import traceback\n",
    "import datetime\n",
    "\n",
    "# Configure logging to write errors to both console and file\n",
    "logging.basicConfig(filename='errors.log', level=logging.ERROR,\n",
    "                    format='%(asctime)s - %(levelname)s: %(message)s', datefmt='%Y-%m-%d %H:%M:%S')\n",
    "\n",
    "try:\n",
    "    # Code that may raise an exception\n",
    "    result = 10 / 0\n",
    "except Exception as e:\n",
    "    # Log the exception with timestamp\n",
    "    timestamp = datetime.datetime.now().strftime('%Y-%m-%d %H:%M:%S')\n",
    "    logging.error(f'Exception occurred at {timestamp}: {e}')\n",
    "    traceback.print_exc()  # Print the traceback to the console\n"
   ]
  },
  {
   "cell_type": "code",
   "execution_count": null,
   "id": "0d1fc5c7",
   "metadata": {},
   "outputs": [],
   "source": []
  }
 ],
 "metadata": {
  "kernelspec": {
   "display_name": "Python 3 (ipykernel)",
   "language": "python",
   "name": "python3"
  },
  "language_info": {
   "codemirror_mode": {
    "name": "ipython",
    "version": 3
   },
   "file_extension": ".py",
   "mimetype": "text/x-python",
   "name": "python",
   "nbconvert_exporter": "python",
   "pygments_lexer": "ipython3",
   "version": "3.9.13"
  }
 },
 "nbformat": 4,
 "nbformat_minor": 5
}
