{
 "cells": [
  {
   "cell_type": "code",
   "execution_count": 1,
   "id": "45b4ccb5",
   "metadata": {},
   "outputs": [
    {
     "data": {
      "text/plain": [
       "\"\\n1.\\tIn the below elements which of them are values or an expression? \\n2.\\teg:- values can be integer or string and expressions will be mathematical operators.\\n* \\n'hello'\\n-87.8\\n- \\n/ \\n+\\t\\n6 \\n\\n\\n\""
      ]
     },
     "execution_count": 1,
     "metadata": {},
     "output_type": "execute_result"
    }
   ],
   "source": [
    "'''\n",
    "1.\tIn the below elements which of them are values or an expression? \n",
    "2.\teg:- values can be integer or string and expressions will be mathematical operators.\n",
    "* \n",
    "'hello'\n",
    "-87.8\n",
    "- \n",
    "/ \n",
    "+\t\n",
    "6 \n",
    "\n",
    "\n",
    "'''"
   ]
  },
  {
   "cell_type": "code",
   "execution_count": 2,
   "id": "1179e74d",
   "metadata": {},
   "outputs": [
    {
     "data": {
      "text/plain": [
       "\"\\nValues:\\n\\n'hello', -87.8, 6 \\n\\nexpression:\\n\\n*, -, /, +\\n\\n\\n\""
      ]
     },
     "execution_count": 2,
     "metadata": {},
     "output_type": "execute_result"
    }
   ],
   "source": [
    "'''\n",
    "Values:\n",
    "\n",
    "'hello', -87.8, 6 \n",
    "\n",
    "expression:\n",
    "\n",
    "*, -, /, +\n",
    "\n",
    "\n",
    "'''"
   ]
  },
  {
   "cell_type": "code",
   "execution_count": 3,
   "id": "bf41ab0d",
   "metadata": {},
   "outputs": [
    {
     "data": {
      "text/plain": [
       "'\\nstring is an data type\\nvariable is stores a data/input value\\n\\na=\\'Kishore\\'\\n\\nhere \\'a\\' is varaible and it stores the value of \"Kishore\"\\nand\\n\\'Kishore\\' is a string type charector\\n\\n'"
      ]
     },
     "execution_count": 3,
     "metadata": {},
     "output_type": "execute_result"
    }
   ],
   "source": [
    "# 2. What is the difference between string and variable?\n",
    "\n",
    "'''\n",
    "string is an data type\n",
    "variable is stores a data/input value\n",
    "\n",
    "a='Kishore'\n",
    "\n",
    "here 'a' is varaible and it stores the value of \"Kishore\"\n",
    "and\n",
    "'Kishore' is a string type charector\n",
    "\n",
    "'''"
   ]
  },
  {
   "cell_type": "code",
   "execution_count": 4,
   "id": "81ff01ae",
   "metadata": {},
   "outputs": [],
   "source": [
    "# 3. Describe three different data types.\n",
    "\n",
    "# int: int full form is integer and it stores the numerical values. Ex: 1,2,34,4,5,667,987\n",
    "\n",
    "#str: str full form is string it stores the charecter values like texts and numbers \n",
    "#     but the type will be in str wich fall under single quotes or double quotes\n",
    "#     Ex:'Kishore',\"Kishroe0295\",\"1234\" these all are string because these all are fall under quotes ''\n",
    "\n",
    "#float: float is a data type which allows the decimals into it. Ex: 20.30,34.56,99.89,98.99.10.06..etc\n"
   ]
  },
  {
   "cell_type": "code",
   "execution_count": 7,
   "id": "66dc3d01",
   "metadata": {},
   "outputs": [],
   "source": [
    "# 4. What is an expression made up of? What do all expressions do?\n",
    "# Expression are made up of for manipulating the data to bring out the certain required output\n",
    "# Ex: '*' it made for multiplication\n",
    "#     '-' this is for substraction\n",
    "#     '+' this is for addition\n",
    "#     '/' this is for division"
   ]
  },
  {
   "cell_type": "code",
   "execution_count": 8,
   "id": "50d126d2",
   "metadata": {},
   "outputs": [],
   "source": [
    "# 5. This assignment statements, like spam = 10. What is the difference between an expression and a statement?\n",
    "# here expression is manipulating the data like 10 *10 or 10+10...\n",
    "# but in this statemnet say that 10 is value assigned to the variable spam"
   ]
  },
  {
   "cell_type": "code",
   "execution_count": 10,
   "id": "3c3de454",
   "metadata": {},
   "outputs": [
    {
     "data": {
      "text/plain": [
       "23"
      ]
     },
     "execution_count": 10,
     "metadata": {},
     "output_type": "execute_result"
    }
   ],
   "source": [
    "#6. After running the following code, what does the variable bacon contain?\n",
    "bacon = 22\n",
    "bacon + 1\n",
    "# here bacon values is assigned as 22 and 2nd line code we are manipulating using the + operator, so the output will be 23\n"
   ]
  },
  {
   "cell_type": "code",
   "execution_count": 14,
   "id": "eb8f2cb6",
   "metadata": {},
   "outputs": [
    {
     "data": {
      "text/plain": [
       "'spamspamspam'"
      ]
     },
     "execution_count": 14,
     "metadata": {},
     "output_type": "execute_result"
    }
   ],
   "source": [
    "#7. What should the values of the following two terms be?\n",
    "'spam' + 'spamspam'\n",
    "'spam' * 3\n",
    "# Here code line number 1 we are performing concatnate operation by paasing two strings the output will be 'spamspamspam'\n",
    "#and line number 2 we are trying to print the same string in multiplication of 3 times the output will be 'spamspamspam' \n",
    "#same because the passing strings are same and expected output also same"
   ]
  },
  {
   "cell_type": "code",
   "execution_count": 16,
   "id": "5838f6af",
   "metadata": {},
   "outputs": [],
   "source": [
    "#8. Why is eggs a valid variable name while 100 is invalid?\n",
    "# yes as per syntax we cannont assign a numerical started or special charector(except '_') to variable so it is invalid"
   ]
  },
  {
   "cell_type": "code",
   "execution_count": 17,
   "id": "f7981c0a",
   "metadata": {},
   "outputs": [
    {
     "data": {
      "text/plain": [
       "'\\nfunctions to get the three functions can be used to get the integer, floating-point number, or string version\\n1 integer          ---> int()\\n2 floating-point -----> float()\\n2 string         -----> str()\\n'"
      ]
     },
     "execution_count": 17,
     "metadata": {},
     "output_type": "execute_result"
    }
   ],
   "source": [
    "#9. What three functions can be used to get the integer, floating-point number, or string version of a value?\n",
    "'''\n",
    "functions to get the three functions can be used to get the integer, floating-point number, or string version\n",
    "1 integer          ---> int()\n",
    "2 floating-point -----> float()\n",
    "2 string         -----> str()\n",
    "'''"
   ]
  },
  {
   "cell_type": "code",
   "execution_count": 21,
   "id": "e3dc6cf0",
   "metadata": {},
   "outputs": [
    {
     "name": "stdout",
     "output_type": "stream",
     "text": [
      "I have eaten 99 burritos.\n"
     ]
    },
    {
     "data": {
      "text/plain": [
       "'I have eaten 99 burritos.'"
      ]
     },
     "execution_count": 21,
     "metadata": {},
     "output_type": "execute_result"
    }
   ],
   "source": [
    "# 10. Why does this expression cause an error? How can you fix it?\n",
    "# 'I have eaten ' + 99 + ' burritos.'\n",
    "# The above expression is error because here we are trying to concatenate the string values to the integer values\n",
    "# which is not possible\n",
    "# the possible way's are is below\n",
    "print('I have eaten ' + '99' + ' burritos.') # putting the integer into the quotes to convert it into string\n",
    "'I have eaten ' + str(99) + ' burritos.' # using a Type casting"
   ]
  },
  {
   "cell_type": "code",
   "execution_count": null,
   "id": "0a455e79",
   "metadata": {},
   "outputs": [],
   "source": []
  }
 ],
 "metadata": {
  "kernelspec": {
   "display_name": "Python 3 (ipykernel)",
   "language": "python",
   "name": "python3"
  },
  "language_info": {
   "codemirror_mode": {
    "name": "ipython",
    "version": 3
   },
   "file_extension": ".py",
   "mimetype": "text/x-python",
   "name": "python",
   "nbconvert_exporter": "python",
   "pygments_lexer": "ipython3",
   "version": "3.9.13"
  }
 },
 "nbformat": 4,
 "nbformat_minor": 5
}
