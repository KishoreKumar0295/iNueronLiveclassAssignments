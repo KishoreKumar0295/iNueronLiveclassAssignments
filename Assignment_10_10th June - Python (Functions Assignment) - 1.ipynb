{
 "cells": [
  {
   "cell_type": "markdown",
   "id": "5f1ec833",
   "metadata": {},
   "source": [
    "# In Python, the difference between a built-in function and a user-defined function is as follows:\n",
    "Built-in function: These are functions that are already available in Python without requiring any additional code or definitions. They are part of the Python standard library and cover a wide range of tasks. Examples of built-in functions include print(), len(), and input(). Here's an example:"
   ]
  },
  {
   "cell_type": "markdown",
   "id": "fd875e3e",
   "metadata": {},
   "source": []
  },
  {
   "cell_type": "code",
   "execution_count": 1,
   "id": "a0c8ec1e",
   "metadata": {},
   "outputs": [
    {
     "name": "stdout",
     "output_type": "stream",
     "text": [
      "13\n"
     ]
    }
   ],
   "source": [
    "print(len(\"Hello, World!\"))  # Using the built-in function len()\n"
   ]
  },
  {
   "cell_type": "markdown",
   "id": "34d3ec0d",
   "metadata": {},
   "source": [
    "# User-defined function:\n",
    "These are functions created by the programmer to perform specific tasks. They are defined using the def keyword, followed by a function name, parentheses containing any required arguments, and a colon. The function body contains the code to be executed when the function is called. User-defined functions allow for code reusability and modular programming. Here's an example:"
   ]
  },
  {
   "cell_type": "code",
   "execution_count": 2,
   "id": "f0747380",
   "metadata": {},
   "outputs": [
    {
     "name": "stdout",
     "output_type": "stream",
     "text": [
      "Hello, Sudhansu!\n"
     ]
    }
   ],
   "source": [
    "def greet(name):\n",
    "    print(\"Hello, \" + name + \"!\")\n",
    "\n",
    "greet(\"Sudhansu\")  # Using the user-defined function greet()\n"
   ]
  },
  {
   "cell_type": "markdown",
   "id": "a45a27ea",
   "metadata": {},
   "source": [
    "# Arguments can be passed to a function in Python in two ways: \n",
    "## positional arguments and keyword arguments.\n",
    "Positional arguments: These arguments are passed based on their position or order. The values are assigned to the corresponding parameters in the function definition in the same order. Here's an example:"
   ]
  },
  {
   "cell_type": "code",
   "execution_count": 3,
   "id": "f22bae2e",
   "metadata": {},
   "outputs": [
    {
     "name": "stdout",
     "output_type": "stream",
     "text": [
      "8\n"
     ]
    }
   ],
   "source": [
    "def add_numbers(x, y):\n",
    "    return x + y\n",
    "\n",
    "result = add_numbers(3, 5)  # Positional arguments\n",
    "print(result)\n"
   ]
  },
  {
   "cell_type": "markdown",
   "id": "34304ee5",
   "metadata": {},
   "source": [
    "# Keyword arguments:\n",
    "These arguments are passed with their corresponding parameter names, followed by the = sign and the value. This allows for more flexibility as the order of arguments doesn't matter. Here's an example:"
   ]
  },
  {
   "cell_type": "code",
   "execution_count": 4,
   "id": "743704a5",
   "metadata": {},
   "outputs": [
    {
     "name": "stdout",
     "output_type": "stream",
     "text": [
      "Hello, Alice! You are 25 years old.\n"
     ]
    }
   ],
   "source": [
    "def greet(name, age):\n",
    "    print(\"Hello, \" + name + \"! You are \" + str(age) + \" years old.\")\n",
    "\n",
    "greet(age=25, name=\"Alice\")  # Keyword arguments\n"
   ]
  },
  {
   "cell_type": "markdown",
   "id": "c4cc68cd",
   "metadata": {},
   "source": [
    "# Returns Statement\n",
    "The purpose of the return statement in a function is to specify the value that the function should return when it is called. It allows a function to provide a result or output back to the caller. A function can have multiple return statements, but only one of them is executed. When a return statement is encountered, the function immediately exits and returns the specified value. Here's an example:"
   ]
  },
  {
   "cell_type": "code",
   "execution_count": 5,
   "id": "29d0ace3",
   "metadata": {},
   "outputs": [
    {
     "name": "stdout",
     "output_type": "stream",
     "text": [
      "5\n"
     ]
    }
   ],
   "source": [
    "def absolute_value(x):\n",
    "    if x < 0:\n",
    "        return -x\n",
    "    else:\n",
    "        return x\n",
    "\n",
    "result = absolute_value(-5)\n",
    "print(result)\n"
   ]
  },
  {
   "cell_type": "markdown",
   "id": "0412f381",
   "metadata": {},
   "source": [
    "# Lambda Functions:\n",
    "Lambda functions, or anonymous functions, are small, inline functions that don't require a formal definition like regular functions. They are created using the lambda keyword, followed by a list of arguments, a colon, and an expression. Lambda functions are limited to a single expression and implicitly return the result of that expression. They are often used when a simple function is needed for a short period of time or when it's more convenient to define a function inline. Here's an example where a lambda function is useful with map():"
   ]
  },
  {
   "cell_type": "code",
   "execution_count": 6,
   "id": "fac51fe6",
   "metadata": {},
   "outputs": [
    {
     "name": "stdout",
     "output_type": "stream",
     "text": [
      "[1, 4, 9, 16, 25]\n"
     ]
    }
   ],
   "source": [
    "numbers = [1, 2, 3, 4, 5]\n",
    "squared_numbers = map(lambda x: x**2, numbers)\n",
    "print(list(squared_numbers))\n"
   ]
  },
  {
   "cell_type": "markdown",
   "id": "a51e3764",
   "metadata": {},
   "source": [
    "# scope and global scope:\n",
    "## Local scope: \n",
    "Variables defined inside a function have local scope, meaning they are only accessible within that function. They are not visible or accessible outside the function. Here's an example:\n",
    "## Global scope: \n",
    "Variables defined outside any function have global scope, meaning they are accessible from anywhere in the code. They can be accessed both inside and outside functions. Here's an example:"
   ]
  },
  {
   "cell_type": "code",
   "execution_count": 7,
   "id": "81a88342",
   "metadata": {},
   "outputs": [
    {
     "name": "stdout",
     "output_type": "stream",
     "text": [
      "10\n"
     ]
    },
    {
     "ename": "NameError",
     "evalue": "name 'x' is not defined",
     "output_type": "error",
     "traceback": [
      "\u001b[1;31m---------------------------------------------------------------------------\u001b[0m",
      "\u001b[1;31mNameError\u001b[0m                                 Traceback (most recent call last)",
      "\u001b[1;32m~\\AppData\\Local\\Temp\\ipykernel_10936\\963060484.py\u001b[0m in \u001b[0;36m<module>\u001b[1;34m\u001b[0m\n\u001b[0;32m      4\u001b[0m \u001b[1;33m\u001b[0m\u001b[0m\n\u001b[0;32m      5\u001b[0m \u001b[0mmy_function\u001b[0m\u001b[1;33m(\u001b[0m\u001b[1;33m)\u001b[0m\u001b[1;33m\u001b[0m\u001b[1;33m\u001b[0m\u001b[0m\n\u001b[1;32m----> 6\u001b[1;33m \u001b[0mprint\u001b[0m\u001b[1;33m(\u001b[0m\u001b[0mx\u001b[0m\u001b[1;33m)\u001b[0m  \u001b[1;31m# Error: x is not defined outside the function\u001b[0m\u001b[1;33m\u001b[0m\u001b[1;33m\u001b[0m\u001b[0m\n\u001b[0m",
      "\u001b[1;31mNameError\u001b[0m: name 'x' is not defined"
     ]
    }
   ],
   "source": [
    "def my_function():\n",
    "    x = 10  # Local variable\n",
    "    print(x)\n",
    "\n",
    "my_function()\n",
    "print(x)  # Error: x is not defined outside the function\n"
   ]
  },
  {
   "cell_type": "code",
   "execution_count": 8,
   "id": "e1f725c9",
   "metadata": {},
   "outputs": [
    {
     "name": "stdout",
     "output_type": "stream",
     "text": [
      "10\n",
      "10\n"
     ]
    }
   ],
   "source": [
    "x = 10  # Global variable\n",
    "\n",
    "def my_function():\n",
    "    print(x)  # Accessing the global variable\n",
    "\n",
    "my_function()\n",
    "print(x)\n"
   ]
  },
  {
   "cell_type": "markdown",
   "id": "da9e0c3b",
   "metadata": {},
   "source": [
    "To return multiple values from a Python function, you can use the return statement with a tuple, list, or any other iterable object. Here's an example:"
   ]
  },
  {
   "cell_type": "code",
   "execution_count": 9,
   "id": "9042eb4d",
   "metadata": {},
   "outputs": [
    {
     "name": "stdout",
     "output_type": "stream",
     "text": [
      "(1, 2, 3)\n"
     ]
    }
   ],
   "source": [
    "def get_values():\n",
    "    return 1, 2, 3\n",
    "\n",
    "result = get_values()\n",
    "print(result)  # Prints a tuple: (1, 2, 3)\n"
   ]
  },
  {
   "cell_type": "markdown",
   "id": "fe970fd4",
   "metadata": {},
   "source": [
    "# Pass by value: \n",
    "Immutable objects like numbers, strings, and tuples are passed by value. A copy of the object is created, and any modifications made to the parameter within the function do not affect the original object. Here's an example:"
   ]
  },
  {
   "cell_type": "code",
   "execution_count": 10,
   "id": "fce8b532",
   "metadata": {},
   "outputs": [
    {
     "name": "stdout",
     "output_type": "stream",
     "text": [
      "6\n",
      "5\n"
     ]
    }
   ],
   "source": [
    "def increment(x):\n",
    "    x += 1\n",
    "    print(x)\n",
    "\n",
    "num = 5\n",
    "increment(num)  # Pass by value\n",
    "print(num)  # The original value is not modified\n"
   ]
  },
  {
   "cell_type": "markdown",
   "id": "3cec0625",
   "metadata": {},
   "source": [
    "# Pass by reference: \n",
    "Mutable objects like lists and dictionaries are passed by reference. The function receives a reference to the original object, and any modifications made to the parameter within the function affect the original object. Here's an example:"
   ]
  },
  {
   "cell_type": "code",
   "execution_count": 11,
   "id": "1f2d385d",
   "metadata": {},
   "outputs": [
    {
     "name": "stdout",
     "output_type": "stream",
     "text": [
      "[1, 2, 3, 4]\n",
      "[1, 2, 3, 4]\n"
     ]
    }
   ],
   "source": [
    "def append_value(lst):\n",
    "    lst.append(4)\n",
    "    print(lst)\n",
    "\n",
    "my_list = [1, 2, 3]\n",
    "append_value(my_list)  # Pass by reference\n",
    "print(my_list)  # The original list is modified\n"
   ]
  },
  {
   "cell_type": "markdown",
   "id": "5c88ef14",
   "metadata": {},
   "source": [
    "Here's a function that can perform logarithmic, exponential, power (base 2), and square root operations on an input value:\n"
   ]
  },
  {
   "cell_type": "code",
   "execution_count": 12,
   "id": "e3557891",
   "metadata": {},
   "outputs": [
    {
     "name": "stdout",
     "output_type": "stream",
     "text": [
      "(2.302585092994046, 22026.465794806718, 1024, 3.1622776601683795)\n"
     ]
    }
   ],
   "source": [
    "import math\n",
    "\n",
    "def perform_operations(value):\n",
    "    logarithm = math.log(value)\n",
    "    exponentiation = math.exp(value)\n",
    "    power_of_two = pow(2, value)\n",
    "    sqrt = math.sqrt(value)\n",
    "    \n",
    "    return logarithm, exponentiation, power_of_two, sqrt\n",
    "\n",
    "result = perform_operations(10)\n",
    "print(result)\n"
   ]
  },
  {
   "cell_type": "markdown",
   "id": "5d113fe4",
   "metadata": {},
   "source": [
    "Here's a function that takes a full name as an argument and returns the first name and last name:"
   ]
  },
  {
   "cell_type": "code",
   "execution_count": 13,
   "id": "c7d19115",
   "metadata": {},
   "outputs": [
    {
     "name": "stdout",
     "output_type": "stream",
     "text": [
      "First Name: John\n",
      "Last Name: Doe\n"
     ]
    }
   ],
   "source": [
    "def get_first_last_name(full_name):\n",
    "    names = full_name.split()\n",
    "    first_name = names[0]\n",
    "    last_name = names[-1]\n",
    "    return first_name, last_name\n",
    "\n",
    "name = \"John Doe\"\n",
    "first, last = get_first_last_name(name)\n",
    "print(\"First Name:\", first)\n",
    "print(\"Last Name:\", last)\n"
   ]
  },
  {
   "cell_type": "code",
   "execution_count": null,
   "id": "5b58da79",
   "metadata": {},
   "outputs": [],
   "source": []
  }
 ],
 "metadata": {
  "kernelspec": {
   "display_name": "Python 3 (ipykernel)",
   "language": "python",
   "name": "python3"
  },
  "language_info": {
   "codemirror_mode": {
    "name": "ipython",
    "version": 3
   },
   "file_extension": ".py",
   "mimetype": "text/x-python",
   "name": "python",
   "nbconvert_exporter": "python",
   "pygments_lexer": "ipython3",
   "version": "3.9.13"
  }
 },
 "nbformat": 4,
 "nbformat_minor": 5
}
