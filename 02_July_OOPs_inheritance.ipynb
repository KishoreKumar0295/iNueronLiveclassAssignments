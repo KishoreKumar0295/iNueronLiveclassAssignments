{
 "cells": [
  {
   "cell_type": "markdown",
   "id": "4af335f4",
   "metadata": {},
   "source": [
    "# # 1. Explain what inheritance is in object-oriented programming and why it is used.\n"
   ]
  },
  {
   "cell_type": "raw",
   "id": "5bbed627",
   "metadata": {},
   "source": [
    "Inheritance is a fundamental concept in object-oriented programming (OOP) that allows a new class (called the \"subclass\" or \"child class\") to inherit properties and behaviors from an existing class (called the \"superclass\" or \"parent class\"). The subclass can then extend or modify these inherited characteristics while also adding its own unique features.\n",
    "\n",
    "It is used for:\n",
    "\n",
    "Reusability: \n",
    "Instead of writing everything from scratch, we can reuse the code and behaviors of the parent class. This saves time and makes programming easier.\n",
    "\n",
    "Hierarchy and Specialization: \n",
    "It helps us organize and group similar objects together. The child classes can add new features or modify existing ones while still keeping the core functionalities from the parent class.\n"
   ]
  },
  {
   "cell_type": "markdown",
   "id": "94de281e",
   "metadata": {},
   "source": [
    "# 2. Discuss the concept of single inheritance and multiple inheritance, highlighting their differences and advantages.\n"
   ]
  },
  {
   "cell_type": "raw",
   "id": "5aa5efee",
   "metadata": {},
   "source": [
    "Single Inheritance:\n",
    "Single inheritance is a type of inheritance in object-oriented programming where a subclass can inherit from only one superclass. In other words, each class can have only one direct parent class. This creates a linear hierarchy, where classes are organized in a single chain of inheritance.\n",
    "\n",
    "Advantages of Single Inheritance:\n",
    "\n",
    "Simplicity: Single inheritance keeps the class hierarchy straightforward and easy to understand. There's no confusion about which superclass's attributes or methods are inherited, as there's only one parent class.\n",
    "\n",
    "Less Ambiguity: Since there's only one parent class, there's no ambiguity in case of conflicting method names or attributes from different parent classes.\n",
    "\n",
    "Multiple Inheritance:\n",
    "Multiple inheritance is a type of inheritance where a subclass can inherit from multiple superclasses, i.e., a class can have more than one direct parent class. This allows the subclass to combine features and behaviors from multiple sources.\n",
    "\n",
    "Advantages of Multiple Inheritance:\n",
    "\n",
    "Code Reuse: Multiple inheritance enables more extensive code reuse, as a class can inherit functionalities from multiple superclasses. This can lead to more modular and efficient code.\n",
    "\n",
    "Richer Class Functionality: By inheriting from multiple superclasses, a subclass can gain a diverse set of behaviors, making it more powerful and flexible.\n",
    "\n",
    "Differences:\n",
    "\n",
    "Number of Superclasses: The primary difference between single inheritance and multiple inheritance lies in the number of parent classes a subclass can have. Single inheritance allows only one parent class, while multiple inheritance allows more than one.\n",
    "\n",
    "Hierarchy Structure: In single inheritance, classes are organized in a linear, one-dimensional hierarchy. In contrast, multiple inheritance creates a more complex, multi-dimensional hierarchy, as classes can have multiple ancestors.\n",
    "\n",
    "Ambiguity Resolution: In multiple inheritance, a challenge arises when two or more superclasses provide methods with the same name. The subclass must specify explicitly which version of the method it wants to use to avoid ambiguity. This issue doesn't occur in single inheritance since there's only one parent class.\n",
    "\n",
    "Choosing Between Single and Multiple Inheritance:\n",
    "The decision between single and multiple inheritance depends on the specific needs of the application. Single inheritance is generally simpler and less prone to ambiguity, making it easier to maintain. Multiple inheritance, on the other hand, offers greater code reuse and flexibility but requires careful handling of potential conflicts to avoid ambiguity. Some programming languages, like Java, support only single inheritance, while others, like C++, allow multiple inheritance, but developers must use it judiciously to maintain code clarity and prevent ambiguity.\n",
    "\n",
    "\n",
    "\n",
    "\n",
    "\n"
   ]
  },
  {
   "cell_type": "markdown",
   "id": "12fb2556",
   "metadata": {},
   "source": [
    "# 3. Explain the terms \"base class\" and \"derived class\" in the context of inheritance."
   ]
  },
  {
   "cell_type": "raw",
   "id": "133649de",
   "metadata": {},
   "source": [
    "Base Class: The original class from which another class inherits properties and behaviors.\n",
    "\n",
    "Derived Class: A new class created based on an existing base class, inheriting its features while adding new ones.\n",
    "\n",
    "Inheritance: A way to create a hierarchy of classes, promoting code reusability and organizing code more efficiently."
   ]
  },
  {
   "cell_type": "code",
   "execution_count": 1,
   "id": "66d229c7",
   "metadata": {},
   "outputs": [
    {
     "name": "stdout",
     "output_type": "stream",
     "text": [
      "Unknown\n",
      "Some generic animal sound\n",
      "Dog\n",
      "Labrador\n",
      "Woof!\n"
     ]
    }
   ],
   "source": [
    "# Base Class (or Superclass)\n",
    "class Animal:\n",
    "    def __init__(self, species):\n",
    "        self.species = species\n",
    "\n",
    "    def make_sound(self):\n",
    "        print(\"Some generic animal sound\")\n",
    "\n",
    "# Derived Class (or Subclass)\n",
    "class Dog(Animal):\n",
    "    def __init__(self, breed):\n",
    "        # Calling the constructor of the base class\n",
    "        super().__init__(\"Dog\")\n",
    "        self.breed = breed\n",
    "\n",
    "    def make_sound(self):\n",
    "        print(\"Woof!\")\n",
    "\n",
    "# Creating instances of the classes\n",
    "animal = Animal(\"Unknown\")\n",
    "dog = Dog(\"Labrador\")\n",
    "\n",
    "# Using the methods of the classes\n",
    "print(animal.species)  # Output: Unknown\n",
    "animal.make_sound()    # Output: Some generic animal sound\n",
    "\n",
    "print(dog.species)     # Output: Dog\n",
    "print(dog.breed)       # Output: Labrador\n",
    "dog.make_sound()       # Output: Woof!\n"
   ]
  },
  {
   "cell_type": "markdown",
   "id": "aa156f9c",
   "metadata": {},
   "source": [
    "# 4 What is the significance of the \"protected\" access modifier in inheritance? How does it differ from \"private\" and \"public\" modifiers?"
   ]
  },
  {
   "cell_type": "raw",
   "id": "3a20371d",
   "metadata": {},
   "source": [
    "The \"protected\" access modifier in inheritance plays a crucial role in controlling the visibility of class members (attributes and methods) to subclasses (derived classes). It is an intermediate level of access between \"private\" and \"public.\"\n",
    "\n",
    "Significance of \"protected\" access modifier:\n",
    "\n",
    "Inheritance: When a class member is marked as \"protected,\" it can be accessed by the class that defines it and any of its subclasses. This allows subclasses to inherit and use the protected members, promoting code reusability and extension.\n",
    "\n",
    "Encapsulation: By using \"protected,\" we provide a level of encapsulation that allows derived classes to interact with the base class's internals while preventing direct access from outside the class hierarchy.\n",
    "\n",
    "Differences from \"private\" and \"public\" modifiers:\n",
    "\n",
    "Private: Members marked as \"private\" are accessible only within the class where they are defined. They are not visible to subclasses. This ensures strong encapsulation and prevents derived classes from directly accessing or modifying these members.\n",
    "\n",
    "Protected: Members marked as \"protected\" are accessible within the class where they are defined and any derived classes. They are not accessible outside the class hierarchy. This allows derived classes to inherit and use these members, but other unrelated classes cannot access them.\n",
    "\n",
    "Public: Members marked as \"public\" are accessible from anywhere, including outside the class and its subclasses. They have no restrictions on access, and any part of the code can use them freely."
   ]
  },
  {
   "cell_type": "markdown",
   "id": "05c302a8",
   "metadata": {},
   "source": [
    "# 5. What is the purpose of the \"super\" keyword in inheritance? Provide an example.\n"
   ]
  },
  {
   "cell_type": "raw",
   "id": "9ded738d",
   "metadata": {},
   "source": [
    "Super key is helps to inherit the parant class method in to the childe class"
   ]
  },
  {
   "cell_type": "code",
   "execution_count": 2,
   "id": "f5446e31",
   "metadata": {},
   "outputs": [
    {
     "data": {
      "text/plain": [
       "'\\nhere i want to species from parent class instead of creating a again i use the super class key word to inherit it from \\nthe parent class\\n'"
      ]
     },
     "execution_count": 2,
     "metadata": {},
     "output_type": "execute_result"
    }
   ],
   "source": [
    "# For example:\n",
    "class Animal:\n",
    "    def __init__(self, species):\n",
    "        self.species = species\n",
    "\n",
    "    def make_sound(self):\n",
    "        print(\"Some generic animal sound\")\n",
    "\n",
    "# Derived Class (or Subclass)\n",
    "class Dog(Animal):\n",
    "    def __init__(self, breed):\n",
    "        # Calling the constructor of the base class\n",
    "        super().__init__(\"Dog\")\n",
    "        self.breed = breed\n",
    "\n",
    "'''\n",
    "here i want to species from parent class instead of creating a again i use the super class key word to inherit it from \n",
    "the parent class\n",
    "'''"
   ]
  },
  {
   "cell_type": "markdown",
   "id": "66c9e254",
   "metadata": {},
   "source": [
    "# 6. Create a base class called \"Vehicle\" with attributes like \"make\", \"model\", and \"year\". Then, create a derived class called \"Car\" that inherits from \"Vehicle\" and adds an attribute called \"fuel_type\". Implement appropriate methods in both classes."
   ]
  },
  {
   "cell_type": "code",
   "execution_count": 8,
   "id": "ee4050cd",
   "metadata": {},
   "outputs": [],
   "source": [
    "class Vehicle:\n",
    "    def __init__(self,make,model,year):\n",
    "        self.make = make\n",
    "        self.model = model\n",
    "        self.year = year\n",
    "    \n",
    "    def displayinfo(self):\n",
    "        print(f\"Make: {self.make}, Model: {self.model}, Year: {self.year}\")\n",
    "\n",
    "class Car(Vehicle):\n",
    "    def __init__(self,make,model,year,fuel_type):\n",
    "        super().__init__(make,model,year)\n",
    "        self.fuel_type = fuel_type\n",
    "        \n",
    "    def displayinfo(self):\n",
    "        super().displayinfo()\n",
    "        print(f'Fuel Type: {self.fuel_type}')"
   ]
  },
  {
   "cell_type": "code",
   "execution_count": 9,
   "id": "1424e90d",
   "metadata": {},
   "outputs": [],
   "source": [
    "vehicle = Vehicle(\"BrandX\", \"ModelY\", 2022)\n",
    "car = Car(\"BrandZ\", \"ModelA\", 2023, \"Gasoline\")\n"
   ]
  },
  {
   "cell_type": "code",
   "execution_count": 10,
   "id": "d08cf8ff",
   "metadata": {},
   "outputs": [
    {
     "name": "stdout",
     "output_type": "stream",
     "text": [
      "Make: BrandX, Model: ModelY, Year: 2022\n"
     ]
    }
   ],
   "source": [
    "vehicle.displayinfo()"
   ]
  },
  {
   "cell_type": "code",
   "execution_count": 11,
   "id": "832dcbc4",
   "metadata": {},
   "outputs": [
    {
     "name": "stdout",
     "output_type": "stream",
     "text": [
      "Make: BrandZ, Model: ModelA, Year: 2023\n",
      "Fuel Type: Gasoline\n"
     ]
    }
   ],
   "source": [
    "car.displayinfo()"
   ]
  },
  {
   "cell_type": "markdown",
   "id": "2ddf1f39",
   "metadata": {},
   "source": [
    "# 7. Create a base class called \"Employee\" with attributes like \"name\" and \"salary.\" Derive two classes, \"Manager\" and \"Developer,\" from \"Employee.\" Add an additional attribute called \"department\" for the \"Manager\" class and \"programming_language\" for the \"Developer\" class."
   ]
  },
  {
   "cell_type": "code",
   "execution_count": 35,
   "id": "a3a8286a",
   "metadata": {},
   "outputs": [],
   "source": [
    "class Employee:\n",
    "    \n",
    "    def __init__(self,name,salary):\n",
    "        self.name = name\n",
    "        self.salary = salary\n",
    "    \n",
    "    def displayinfo(self):\n",
    "        print(f'The Employee name is {self.name} and his salary is {self.salary}')\n",
    "\n",
    "    \n",
    "class Manager(Employee):    \n",
    "    def __init__(self,name,salary, department):\n",
    "        super().__init__(name,salary)\n",
    "        self.department = department\n",
    "        \n",
    "    def displayinfo(self):\n",
    "        print(f'The Employee name: {self.name}\\n salary: {self.salary}\\n Department: {self.department}')\n",
    "        \n",
    "class Developer(Employee):\n",
    "    def __init__(self,name,salary, programing_language):\n",
    "        super().__init__(name, salary)\n",
    "        self.programing_language = programing_language\n",
    "    \n",
    "    \n",
    "    \n",
    "    def displayinfo(self):\n",
    "        print(f'The Employee name: {self.name}\\n salary: {self.salary}\\n Skills: {self.programing_language}')\n",
    "        \n",
    "\n",
    "    \n",
    "    \n",
    "    \n"
   ]
  },
  {
   "cell_type": "code",
   "execution_count": 19,
   "id": "3d38c501",
   "metadata": {},
   "outputs": [],
   "source": [
    "employee1 = Employee(\"John Doe\", 50000)\n"
   ]
  },
  {
   "cell_type": "code",
   "execution_count": 21,
   "id": "21fab33f",
   "metadata": {},
   "outputs": [
    {
     "name": "stdout",
     "output_type": "stream",
     "text": [
      "The Employee name is John Doe and his salary is 50000\n"
     ]
    }
   ],
   "source": [
    "employee1.displayinfo()"
   ]
  },
  {
   "cell_type": "code",
   "execution_count": 24,
   "id": "e54ba04d",
   "metadata": {},
   "outputs": [],
   "source": [
    "manager1 = Manager(\"Jane Smith\", 75000, \"Human Resources\")"
   ]
  },
  {
   "cell_type": "code",
   "execution_count": 25,
   "id": "ba87e411",
   "metadata": {},
   "outputs": [
    {
     "name": "stdout",
     "output_type": "stream",
     "text": [
      "The Employee name: Jane Smith\n",
      " salary: 75000\n",
      " Department: Human Resources\n"
     ]
    }
   ],
   "source": [
    "manager1.displayinfo()"
   ]
  },
  {
   "cell_type": "code",
   "execution_count": 36,
   "id": "37bed32c",
   "metadata": {},
   "outputs": [],
   "source": [
    "developer1 = Developer(\"Tom Johnson\", 60000, \"Python\")"
   ]
  },
  {
   "cell_type": "code",
   "execution_count": 37,
   "id": "fa9ffabf",
   "metadata": {},
   "outputs": [
    {
     "name": "stdout",
     "output_type": "stream",
     "text": [
      "The Employee name: Tom Johnson\n",
      " salary: 60000\n",
      " Skills: Python\n"
     ]
    }
   ],
   "source": [
    "developer1.displayinfo()"
   ]
  },
  {
   "cell_type": "markdown",
   "id": "af5bdc6c",
   "metadata": {},
   "source": [
    "# 8. Design a base class called \"Shape\" with attributes like \"colour\" and \"border_width.\" Create derived classes, \"Rectangle\" and \"Circle,\" that inherit from \"Shape\" and add specific attributes like \"length\" and \"width\" for the \"Rectangle\" class and \"radius\" for the \"Circle\" class.\n"
   ]
  },
  {
   "cell_type": "code",
   "execution_count": 40,
   "id": "c8ed509d",
   "metadata": {},
   "outputs": [
    {
     "name": "stdout",
     "output_type": "stream",
     "text": [
      "Shape Information:\n",
      "Colour: Red, Border Width: 2\n",
      "\n",
      "Rectangle Information:\n",
      "Colour: Blue, Border Width: 1\n",
      "Length: 5, Width: 3\n",
      "\n",
      "Circle Information:\n",
      "Colour: Green, Border Width: 2\n",
      "Radius: 4\n"
     ]
    }
   ],
   "source": [
    "class Shape:\n",
    "    def __init__(self, colour, border_width):\n",
    "        self.colour = colour\n",
    "        self.border_width = border_width\n",
    "\n",
    "    def display_info(self):\n",
    "        print(f\"Colour: {self.colour}, Border Width: {self.border_width}\")\n",
    "\n",
    "\n",
    "class Rectangle(Shape):\n",
    "    def __init__(self, colour, border_width, length, width):\n",
    "        super().__init__(colour, border_width)\n",
    "        self.length = length\n",
    "        self.width = width\n",
    "\n",
    "    def display_info(self):\n",
    "        super().display_info()\n",
    "        print(f\"Length: {self.length}, Width: {self.width}\")\n",
    "\n",
    "\n",
    "class Circle(Shape):\n",
    "    def __init__(self, colour, border_width, radius):\n",
    "        super().__init__(colour, border_width)\n",
    "        self.radius = radius\n",
    "\n",
    "    def display_info(self):\n",
    "        super().display_info()\n",
    "        print(f\"Radius: {self.radius}\")\n",
    "\n",
    "\n",
    "# Creating instances of the classes\n",
    "shape1 = Shape(\"Red\", 2)\n",
    "rectangle1 = Rectangle(\"Blue\", 1, 5, 3)\n",
    "circle1 = Circle(\"Green\", 2, 4)\n",
    "\n",
    "# Using the methods of the classes\n",
    "print(\"Shape Information:\")\n",
    "shape1.display_info()\n",
    "\n",
    "print(\"\\nRectangle Information:\")\n",
    "rectangle1.display_info()\n",
    "\n",
    "print(\"\\nCircle Information:\")\n",
    "circle1.display_info()\n"
   ]
  },
  {
   "cell_type": "markdown",
   "id": "0a2d6515",
   "metadata": {},
   "source": [
    "# 9. Create a base class called \"Device\" with attributes like \"brand\" and \"model.\" Derive two classes, \"Phone\" and \"Tablet,\" from \"Device.\" Add specific attributes like \"screen_size\" for the \"Phone\" class and \"battery_capacity\" for the \"Tablet\" class."
   ]
  },
  {
   "cell_type": "code",
   "execution_count": 41,
   "id": "1ffa1962",
   "metadata": {},
   "outputs": [
    {
     "name": "stdout",
     "output_type": "stream",
     "text": [
      "Device Information:\n",
      "Brand: XYZ, Model: ModelA\n",
      "\n",
      "Phone Information:\n",
      "Brand: Apple, Model: iPhone X\n",
      "Screen Size: 5.8 inches\n",
      "\n",
      "Tablet Information:\n",
      "Brand: Samsung, Model: Galaxy Tab S7\n",
      "Battery Capacity: 8000 mAh\n"
     ]
    }
   ],
   "source": [
    "class Device:\n",
    "    def __init__(self, brand, model):\n",
    "        self.brand = brand\n",
    "        self.model = model\n",
    "\n",
    "    def display_info(self):\n",
    "        print(f\"Brand: {self.brand}, Model: {self.model}\")\n",
    "\n",
    "\n",
    "class Phone(Device):\n",
    "    def __init__(self, brand, model, screen_size):\n",
    "        super().__init__(brand, model)\n",
    "        self.screen_size = screen_size\n",
    "\n",
    "    def display_info(self):\n",
    "        super().display_info()\n",
    "        print(f\"Screen Size: {self.screen_size}\")\n",
    "\n",
    "\n",
    "class Tablet(Device):\n",
    "    def __init__(self, brand, model, battery_capacity):\n",
    "        super().__init__(brand, model)\n",
    "        self.battery_capacity = battery_capacity\n",
    "\n",
    "    def display_info(self):\n",
    "        super().display_info()\n",
    "        print(f\"Battery Capacity: {self.battery_capacity}\")\n",
    "\n",
    "\n",
    "# Creating instances of the classes\n",
    "device1 = Device(\"XYZ\", \"ModelA\")\n",
    "phone1 = Phone(\"Apple\", \"iPhone X\", \"5.8 inches\")\n",
    "tablet1 = Tablet(\"Samsung\", \"Galaxy Tab S7\", \"8000 mAh\")\n",
    "\n",
    "# Using the methods of the classes\n",
    "print(\"Device Information:\")\n",
    "device1.display_info()\n",
    "\n",
    "print(\"\\nPhone Information:\")\n",
    "phone1.display_info()\n",
    "\n",
    "print(\"\\nTablet Information:\")\n",
    "tablet1.display_info()\n"
   ]
  },
  {
   "cell_type": "markdown",
   "id": "26fd09e3",
   "metadata": {},
   "source": [
    "# 10. Create a base class called \"BankAccount\" with attributes like \"account_number\" and \"balance.\" Derive two classes, \"SavingsAccount\" and \"CheckingAccount,\" from \"BankAccount.\" Add specific methods like \"calculate_interest\" for the \"SavingsAccount\" class and \"deduct_fees\" for the \"CheckingAccount\" class"
   ]
  },
  {
   "cell_type": "code",
   "execution_count": 43,
   "id": "794e8498",
   "metadata": {},
   "outputs": [
    {
     "name": "stdout",
     "output_type": "stream",
     "text": [
      "Savings Account Information:\n",
      "Account Number: SA1234, Balance: 💰1000.00\n",
      "Interest Calculated: 💰25.00\n",
      "Account Number: SA1234, Balance: 💰1025.00\n",
      "\n",
      "Checking Account Information:\n",
      "Account Number: CA5678, Balance: 💰2000.00\n",
      "Fees Deducted: 💰25.00\n",
      "Account Number: CA5678, Balance: 💰1975.00\n"
     ]
    }
   ],
   "source": [
    "# Base Class\n",
    "class BankAccount:\n",
    "    def __init__(self, account_number, balance):\n",
    "        self.account_number = account_number\n",
    "        self.balance = balance\n",
    "\n",
    "    def display_info(self):\n",
    "        print(f\"Account Number: {self.account_number}, Balance: 💰{self.balance:.2f}\")\n",
    "\n",
    "\n",
    "#Derived Class\n",
    "class SavingsAccount(BankAccount):\n",
    "    def __init__(self, account_number, balance):\n",
    "        super().__init__(account_number, balance)\n",
    "\n",
    "    def calculate_interest(self, interest_rate):\n",
    "        interest = self.balance * (interest_rate / 100)\n",
    "        self.balance += interest\n",
    "        print(f\"Interest Calculated: 💰{interest:.2f}\")\n",
    "\n",
    "# Derived Class\n",
    "class CheckingAccount(BankAccount):\n",
    "    def __init__(self, account_number, balance):\n",
    "        super().__init__(account_number, balance)\n",
    "\n",
    "    def deduct_fees(self, fee_amount):\n",
    "        self.balance -= fee_amount\n",
    "        print(f\"Fees Deducted: 💰{fee_amount:.2f}\")\n",
    "\n",
    "\n",
    "# Creating instances of the classes\n",
    "savings_account = SavingsAccount(\"SA1234\", 1000)\n",
    "checking_account = CheckingAccount(\"CA5678\", 2000)\n",
    "\n",
    "# Using the methods of the classes\n",
    "print(\"Savings Account Information:\")\n",
    "savings_account.display_info()\n",
    "savings_account.calculate_interest(2.5)\n",
    "savings_account.display_info()\n",
    "\n",
    "print(\"\\nChecking Account Information:\")\n",
    "checking_account.display_info()\n",
    "checking_account.deduct_fees(25)\n",
    "checking_account.display_info()\n"
   ]
  },
  {
   "cell_type": "code",
   "execution_count": null,
   "id": "29f5ae96",
   "metadata": {},
   "outputs": [],
   "source": []
  }
 ],
 "metadata": {
  "kernelspec": {
   "display_name": "Python 3 (ipykernel)",
   "language": "python",
   "name": "python3"
  },
  "language_info": {
   "codemirror_mode": {
    "name": "ipython",
    "version": 3
   },
   "file_extension": ".py",
   "mimetype": "text/x-python",
   "name": "python",
   "nbconvert_exporter": "python",
   "pygments_lexer": "ipython3",
   "version": "3.9.13"
  }
 },
 "nbformat": 4,
 "nbformat_minor": 5
}
