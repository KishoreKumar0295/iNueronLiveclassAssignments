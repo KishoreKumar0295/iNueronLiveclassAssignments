{
 "cells": [
  {
   "cell_type": "code",
   "execution_count": 4,
   "id": "be05a96e",
   "metadata": {},
   "outputs": [],
   "source": [
    "# 1.What are the two values of the Boolean data type? How do you write them?\n",
    "# there are 2 boolean data types are there\n",
    "# they are True and False, make the first letter capital"
   ]
  },
  {
   "cell_type": "code",
   "execution_count": 6,
   "id": "1d37f5c4",
   "metadata": {},
   "outputs": [],
   "source": [
    "#2. What are the three different types of Boolean operators?\n",
    "# and , or , not are ther three different boolean operators"
   ]
  },
  {
   "cell_type": "code",
   "execution_count": 14,
   "id": "897faa89",
   "metadata": {},
   "outputs": [
    {
     "data": {
      "text/plain": [
       "True"
      ]
     },
     "execution_count": 14,
     "metadata": {},
     "output_type": "execute_result"
    }
   ],
   "source": [
    "#3. Make a list of each Boolean operator's truth tables \n",
    "#(i.e. every possible combination of Boolean values for the operator and what it evaluate ).\n",
    "\n",
    "# AND operator (&&):\n",
    "              #Output\n",
    "True and True #True\n",
    "False and True #False\n",
    "True and False #False\n",
    "False and False #False\n",
    "\n",
    "# OR operator (||):\n",
    "True or True #True\n",
    "False or True #True\n",
    "True or False #True\n",
    "False or False #False\n",
    "\n",
    "# NOT operator (!): \n",
    "not True #False\n",
    "not False #True\n"
   ]
  },
  {
   "cell_type": "code",
   "execution_count": 15,
   "id": "87f0869c",
   "metadata": {},
   "outputs": [
    {
     "data": {
      "text/plain": [
       "True"
      ]
     },
     "execution_count": 15,
     "metadata": {},
     "output_type": "execute_result"
    }
   ],
   "source": [
    "# 4. What are the values of the following expressions?\n",
    "(5 > 4) and (3 == 5) # it False 3 is not quual to 5\n",
    "not (5 > 4) # the condition is true but used not operator so output is False\n",
    "(5 > 4) or (3 == 5) # True any one condition is true in or then it is true\n",
    "not ((5 > 4) or (3 == 5)) # False because it used not operator even the or operator pass true\n",
    "(True and True) and (True == False) # false because both conditions should be true in and then only true\n",
    "(not False) or (not True) # True any one is true in or then it is true\n"
   ]
  },
  {
   "cell_type": "code",
   "execution_count": 16,
   "id": "4238bcc6",
   "metadata": {},
   "outputs": [
    {
     "data": {
      "text/plain": [
       "'\\n  Operator\\tDescription\\t                Example\\n    ==\\t     Equal to                   x == y\\n    !=\\t     Not equal to               x != y\\n    >\\t     Greater than               x > y\\n    <\\t     Less than                  x < y\\n    >=\\t     Greater than or equal to   x >= y\\n    <=\\t     Less than or equal to      x <= y\\n\\n'"
      ]
     },
     "execution_count": 16,
     "metadata": {},
     "output_type": "execute_result"
    }
   ],
   "source": [
    "#5. What are the six comparison operators?\n",
    "'''\n",
    "  Operator\tDescription\t                Example\n",
    "    ==\t     Equal to                   x == y\n",
    "    !=\t     Not equal to               x != y\n",
    "    >\t     Greater than               x > y\n",
    "    <\t     Less than                  x < y\n",
    "    >=\t     Greater than or equal to   x >= y\n",
    "    <=\t     Less than or equal to      x <= y\n",
    "\n",
    "'''"
   ]
  },
  {
   "cell_type": "code",
   "execution_count": 19,
   "id": "e988722e",
   "metadata": {},
   "outputs": [
    {
     "data": {
      "text/plain": [
       "True"
      ]
     },
     "execution_count": 19,
     "metadata": {},
     "output_type": "execute_result"
    }
   ],
   "source": [
    "# 6. How do you tell the difference between \n",
    "# the equal to and assignment operators?Describe a condition and when you would use one.\n",
    "# below is the difference between qual to and \n",
    "# operator is helps to identify the values and comparison as said below\n",
    "5<=10 "
   ]
  },
  {
   "cell_type": "code",
   "execution_count": 20,
   "id": "f83117cd",
   "metadata": {},
   "outputs": [
    {
     "name": "stdout",
     "output_type": "stream",
     "text": [
      "ham\n",
      "spam\n",
      "spam\n"
     ]
    }
   ],
   "source": [
    "#7. Identify the three blocks in this code:\n",
    "spam = 0 # block 1\n",
    "\n",
    "\n",
    "if spam == 10: # block 2\n",
    "    print('eggs')\n",
    "if spam > 5: # block 3\n",
    "    print('bacon')\n",
    "else:\n",
    "    print('ham')\n",
    "    print('spam')\n",
    "    print('spam')\n"
   ]
  },
  {
   "cell_type": "code",
   "execution_count": 21,
   "id": "969bf5d4",
   "metadata": {},
   "outputs": [
    {
     "name": "stdout",
     "output_type": "stream",
     "text": [
      "Hello\n",
      "Greetings!\n"
     ]
    }
   ],
   "source": [
    "# 8. Write code that prints Hello if 1 is stored in spam, prints Howdy if 2 is stored in spam, \n",
    "# and prints Greetings! if anything else is stored in spam.\n",
    "spam=1\n",
    "\n",
    "if spam==1:\n",
    "    print(\"Hello\")\n",
    "if spam == 2:\n",
    "    print(\"Howdy\")\n",
    "else:\n",
    "    print('Greetings!')\n"
   ]
  },
  {
   "cell_type": "code",
   "execution_count": 22,
   "id": "460b25d5",
   "metadata": {},
   "outputs": [
    {
     "ename": "SyntaxError",
     "evalue": "'break' outside loop (1719211402.py, line 2)",
     "output_type": "error",
     "traceback": [
      "\u001b[1;36m  File \u001b[1;32m\"C:\\Users\\prkum\\AppData\\Local\\Temp\\ipykernel_20212\\1719211402.py\"\u001b[1;36m, line \u001b[1;32m2\u001b[0m\n\u001b[1;33m    break\u001b[0m\n\u001b[1;37m    ^\u001b[0m\n\u001b[1;31mSyntaxError\u001b[0m\u001b[1;31m:\u001b[0m 'break' outside loop\n"
     ]
    }
   ],
   "source": [
    "#9.If your programme is stuck in an endless loop, what keys you’ll press?\n",
    "# break"
   ]
  },
  {
   "cell_type": "code",
   "execution_count": 24,
   "id": "7627f7a4",
   "metadata": {},
   "outputs": [
    {
     "name": "stdout",
     "output_type": "stream",
     "text": [
      "Object `continue` not found.\n"
     ]
    }
   ],
   "source": [
    "# 10. How can you tell the difference between break and continue?\n",
    "# break: it breaks the loop at certain condition\n",
    "# continue: it just continue the loop"
   ]
  },
  {
   "cell_type": "code",
   "execution_count": null,
   "id": "a388f0c2",
   "metadata": {},
   "outputs": [],
   "source": [
    "#11. In a for loop, what is the difference between range(10), range(0, 10), and range(0, 10, 1)?\n",
    "#no difference"
   ]
  },
  {
   "cell_type": "code",
   "execution_count": 34,
   "id": "a767e038",
   "metadata": {},
   "outputs": [
    {
     "name": "stdout",
     "output_type": "stream",
     "text": [
      "0\n",
      "1\n",
      "2\n",
      "3\n",
      "4\n",
      "5\n",
      "6\n",
      "7\n",
      "8\n",
      "9\n",
      "Count: 0\n",
      "Count: 1\n",
      "Count: 2\n",
      "Count: 3\n",
      "Count: 4\n",
      "Count: 5\n",
      "Count: 6\n",
      "Count: 7\n",
      "Count: 8\n",
      "Count: 9\n",
      "Loop finished\n"
     ]
    }
   ],
   "source": [
    "# 12. Write a short program that prints the numbers 1 to 10 using a for loop. \n",
    "# Then write an equivalent program that prints the numbers 1 to 10 using a while loop.\n",
    "for i in range(10):\n",
    "    print(i)\n",
    "    \n",
    "\n",
    "count = 0\n",
    "while count < 10:\n",
    "    print(\"Count:\", count)\n",
    "    count += 1\n",
    "\n",
    "print(\"Loop finished\")\n"
   ]
  },
  {
   "cell_type": "code",
   "execution_count": 36,
   "id": "b13fbfcb",
   "metadata": {},
   "outputs": [
    {
     "data": {
      "text/plain": [
       "'\\nimport spam\\nspam.bacon()\\n'"
      ]
     },
     "execution_count": 36,
     "metadata": {},
     "output_type": "execute_result"
    }
   ],
   "source": [
    "# 13. If you had a function named bacon() inside a module named spam, how would you call it after importing spam?\n",
    "# in below mathod i can call the function\n",
    "'''\n",
    "import spam\n",
    "spam.bacon()\n",
    "'''"
   ]
  },
  {
   "cell_type": "code",
   "execution_count": null,
   "id": "de28bfa4",
   "metadata": {},
   "outputs": [],
   "source": []
  }
 ],
 "metadata": {
  "kernelspec": {
   "display_name": "Python 3 (ipykernel)",
   "language": "python",
   "name": "python3"
  },
  "language_info": {
   "codemirror_mode": {
    "name": "ipython",
    "version": 3
   },
   "file_extension": ".py",
   "mimetype": "text/x-python",
   "name": "python",
   "nbconvert_exporter": "python",
   "pygments_lexer": "ipython3",
   "version": "3.9.13"
  }
 },
 "nbformat": 4,
 "nbformat_minor": 5
}
