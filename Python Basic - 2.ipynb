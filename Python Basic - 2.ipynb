{
 "cells": [
  {
   "cell_type": "code",
   "execution_count": null,
   "id": "cca5a898",
   "metadata": {},
   "outputs": [],
   "source": [
    "Q.1. Create two int type variables, apply addition, subtraction, division and multiplications\n",
    "and store the results in variables. Then print the data in the following format by calling the\n",
    "variables:\n",
    "First variable is __ & second variable is __.\n",
    "Addition: __ + __ = __\n",
    "Subtraction: __ - __ = __\n",
    "Multiplication: __ * __ = __\n",
    "Division: __ / __ = __"
   ]
  },
  {
   "cell_type": "code",
   "execution_count": 5,
   "id": "782585f1",
   "metadata": {},
   "outputs": [
    {
     "name": "stdout",
     "output_type": "stream",
     "text": [
      "Enter First Value1020\n",
      "Enter Second Value20\n",
      "First variable is 1020 Second variable is 20\n",
      "Addition:  1020 + 20 =  1040\n",
      "Subsraction:  1020 - 20 =  1000\n",
      "Multiplication:  1020 * 20 =  20400\n",
      "Division:  1020 / 20 =  51.0\n"
     ]
    }
   ],
   "source": [
    "a=int(input('Enter First Value'))\n",
    "b=int(input('Enter Second Value'))\n",
    "c=a+b\n",
    "d=a-b\n",
    "e=a*b\n",
    "f=a/b\n",
    "print(\"First variable is\", a ,\"Second variable is\",b)\n",
    "print(\"Addition: \",a ,\"+\",b,\"= \",c)\n",
    "print(\"Subsraction: \",a ,\"-\",b,\"= \",d)\n",
    "print(\"Multiplication: \",a ,\"*\",b,\"= \",e)\n",
    "print(\"Division: \",a ,\"/\",b,\"= \",f)"
   ]
  },
  {
   "cell_type": "code",
   "execution_count": null,
   "id": "208662c9",
   "metadata": {},
   "outputs": [],
   "source": [
    "Q.2. What is the difference between the following operators:\n",
    "(i) ‘/’ & ‘//’\n",
    "(ii) ‘**’ & ‘^\n",
    "\n",
    "‘/’ ===>it is used for division for two numerical values\n",
    "‘//’===>In Python, the double forward slash (//) is the floor division operator. \n",
    "It is used to perform division between two numbers and returns the largest whole number \n",
    "that is less than or equal to the division result.\n",
    "‘**’===>t is used to raise a number to a certain power.\n",
    "‘^’===>the caret is the bitwise XOR operator. below is the explanation and example"
   ]
  },
  {
   "cell_type": "raw",
   "id": "e466bfe2",
   "metadata": {},
   "source": [
    "\n",
    "The bitwise XOR operator performs the exclusive OR operation on the binary representation of two numbers. It compares the corresponding bits of the numbers and returns a new number with bits set to 1 only if the corresponding bits of the operands are different; otherwise, it sets the bits to 0."
   ]
  },
  {
   "cell_type": "code",
   "execution_count": 6,
   "id": "7a471a7f",
   "metadata": {},
   "outputs": [
    {
     "name": "stdout",
     "output_type": "stream",
     "text": [
      "10 / 20 =  0.5\n",
      "10 / 20 =  0\n",
      "10 / 20 =  100000000000000000000\n",
      "10 / 20 =  30\n"
     ]
    }
   ],
   "source": [
    "a= 10\n",
    "b = 20\n",
    "c=a/b\n",
    "d=a//b\n",
    "e=a**b\n",
    "f=a^b\n",
    "print(a ,\"/\",b,\"= \",c)\n",
    "print(a ,\"/\",b,\"= \",d)\n",
    "print(a ,\"/\",b,\"= \",e)\n",
    "print(a ,\"/\",b,\"= \",f)"
   ]
  },
  {
   "cell_type": "markdown",
   "id": "ea484748",
   "metadata": {},
   "source": [
    "# Q.3. List the logical operators.\n",
    "\n",
    "\n",
    "and: The and operator returns True if both operands are True, and False otherwise.\n",
    "\n",
    "or: The or operator returns True if at least one of the operands is True, and False if both operands are False.\n",
    "\n",
    "not: The not operator is a unary operator that returns the opposite boolean value of its operand. It negates the value, so True becomes False and False becomes True."
   ]
  },
  {
   "cell_type": "markdown",
   "id": "ec479bae",
   "metadata": {},
   "source": [
    "# Q.4. Explain right shift operator and left shift operator with examples.\n",
    "\n",
    "In Python, the right shift (>>) and left shift (<<) operators are bitwise shift operators that perform shifting of bits in integer values.\n",
    "\n",
    "The right shift (>>) operator shifts the bits of a number to the right by a specified number of positions. It effectively divides the number by 2 raised to the power of the shift amount. Here's an example:"
   ]
  },
  {
   "cell_type": "code",
   "execution_count": 7,
   "id": "bb5d1413",
   "metadata": {},
   "outputs": [
    {
     "name": "stdout",
     "output_type": "stream",
     "text": [
      "3\n"
     ]
    }
   ],
   "source": [
    "num = 12  # Binary: 1100\n",
    "\n",
    "result = num >> 2\n",
    "print(result)  # Output: 3  (Binary: 0011)\n"
   ]
  },
  {
   "cell_type": "markdown",
   "id": "d2a2094b",
   "metadata": {},
   "source": [
    "In this example, num >> 2 shifts the bits of num two positions to the right. The result is 3, which is obtained by dividing 12 by 2 raised to the power of 2. The binary representation of 3 is 0011.\n",
    "\n",
    "The left shift (<<) operator shifts the bits of a number to the left by a specified number of positions. It effectively multiplies the number by 2 raised to the power of the shift amount. Here's an example:\n",
    "\n"
   ]
  },
  {
   "cell_type": "code",
   "execution_count": 8,
   "id": "7f751d20",
   "metadata": {},
   "outputs": [
    {
     "name": "stdout",
     "output_type": "stream",
     "text": [
      "20\n"
     ]
    }
   ],
   "source": [
    "num = 5  # Binary: 0101\n",
    "\n",
    "result = num << 2\n",
    "print(result)  # Output: 20  (Binary: 10100)\n"
   ]
  },
  {
   "cell_type": "code",
   "execution_count": 9,
   "id": "5aed7177",
   "metadata": {},
   "outputs": [
    {
     "name": "stdout",
     "output_type": "stream",
     "text": [
      "10 is present in the list\n"
     ]
    }
   ],
   "source": [
    "# Q.5. Create a list containing int type data of length 15. Then write a code to check if 10 is present in the list or not\n",
    "# Create a list of length 15 containing integer values\n",
    "my_list = [2, 4, 6, 8, 10, 12, 14, 16, 18, 20, 22, 24, 26, 28, 30]\n",
    "\n",
    "# Check if 10 is present in the list\n",
    "if 10 in my_list:\n",
    "    print(\"10 is present in the list\")\n",
    "else:\n",
    "    print(\"10 is not present in the list\")\n"
   ]
  },
  {
   "cell_type": "code",
   "execution_count": null,
   "id": "9001cdbc",
   "metadata": {},
   "outputs": [],
   "source": []
  }
 ],
 "metadata": {
  "kernelspec": {
   "display_name": "Python 3 (ipykernel)",
   "language": "python",
   "name": "python3"
  },
  "language_info": {
   "codemirror_mode": {
    "name": "ipython",
    "version": 3
   },
   "file_extension": ".py",
   "mimetype": "text/x-python",
   "name": "python",
   "nbconvert_exporter": "python",
   "pygments_lexer": "ipython3",
   "version": "3.9.13"
  }
 },
 "nbformat": 4,
 "nbformat_minor": 5
}
