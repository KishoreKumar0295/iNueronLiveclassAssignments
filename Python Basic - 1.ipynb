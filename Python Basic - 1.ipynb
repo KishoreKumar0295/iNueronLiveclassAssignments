{
 "cells": [
  {
   "cell_type": "code",
   "execution_count": 3,
   "id": "a46a7195",
   "metadata": {},
   "outputs": [
    {
     "name": "stdout",
     "output_type": "stream",
     "text": [
      "['False', 'None', 'True', '__peg_parser__', 'and', 'as', 'assert', 'async', 'await', 'break', 'class', 'continue', 'def', 'del', 'elif', 'else', 'except', 'finally', 'for', 'from', 'global', 'if', 'import', 'in', 'is', 'lambda', 'nonlocal', 'not', 'or', 'pass', 'raise', 'return', 'try', 'while', 'with', 'yield']\n"
     ]
    }
   ],
   "source": [
    "# Q.1. What are keywords in python? Using the keyword library, print all the python keywords.\n",
    "import keyword\n",
    "\n",
    "all_keywords = keyword.kwlist\n",
    "print(all_keywords)\n"
   ]
  },
  {
   "cell_type": "markdown",
   "id": "da47c4df",
   "metadata": {},
   "source": [
    "# Q.2. What are the rules to create variables in python?\n",
    "    Start with a letter or underscore.\n",
    "    Can contain letters, numbers, and underscores.\n",
    "    Python is case-sensitive.\n",
    "    No spaces in variable names.\n",
    "    Avoid using reserved keywords.\n",
    "    Use only alphanumeric characters and underscores.\n",
    "    Cannot start with a number.\n",
    "    Avoid using built-in function or module names.\n",
    "    Choose meaningful and descriptive names."
   ]
  },
  {
   "cell_type": "markdown",
   "id": "d718f6d2",
   "metadata": {},
   "source": [
    "# Q.3. What are the standards and conventions followed for the nomenclature of variables in \n",
    "# python to improve code readability and maintainability?\n",
    "\n",
    "Use lowercase letters and underscores for variable names (snake_case) to enhance readability.\n",
    "\n",
    "Choose descriptive and meaningful names that reflect the purpose or content of the variable.\n",
    "\n",
    "Follow the PEP 8 style guide for Python code, which provides guidelines on variable naming and other coding conventions."
   ]
  },
  {
   "cell_type": "code",
   "execution_count": 4,
   "id": "3df68372",
   "metadata": {},
   "outputs": [
    {
     "ename": "SyntaxError",
     "evalue": "cannot assign to None (3324694912.py, line 2)",
     "output_type": "error",
     "traceback": [
      "\u001b[1;36m  File \u001b[1;32m\"C:\\Users\\prkum\\AppData\\Local\\Temp\\ipykernel_4672\\3324694912.py\"\u001b[1;36m, line \u001b[1;32m2\u001b[0m\n\u001b[1;33m    None=[1,2,3]\u001b[0m\n\u001b[1;37m    ^\u001b[0m\n\u001b[1;31mSyntaxError\u001b[0m\u001b[1;31m:\u001b[0m cannot assign to None\n"
     ]
    }
   ],
   "source": [
    "# Q.4. What will happen if a keyword is used as a variable name?\n",
    "# it will through an error called SyntaxError: cannot assign to None\n",
    "Ex:\n",
    "None=[1,2,3]"
   ]
  },
  {
   "cell_type": "code",
   "execution_count": 5,
   "id": "123bd7e9",
   "metadata": {},
   "outputs": [],
   "source": [
    "# Q.5. For what purpose def keyword is used?\n",
    "# the def keywird is used to create a function, and its main use is to reuse of the set of codes again and agin in programs"
   ]
  },
  {
   "cell_type": "markdown",
   "id": "13427d18",
   "metadata": {},
   "source": [
    "# Q.6. What is the operation of this special character ‘\\’?\n",
    "\n",
    "Escape Sequences: The backslash is used to represent special characters like newline (\\n), tab (\\t), backspace (\\b), and others.\n",
    "\n",
    "For example, print(\"Hello\\nWorld\") will print \"Hello\" and \"World\" on separate lines.\n",
    "\n",
    "String Escaping: It can be used to escape characters with special meaning in strings. For example, to include a double quote \n",
    "within a double-quoted string,\n",
    "you can use the backslash like this: \"He said, \\\"Hello!\\\"\""
   ]
  },
  {
   "cell_type": "code",
   "execution_count": null,
   "id": "6fe4cb08",
   "metadata": {},
   "outputs": [],
   "source": [
    "Q.7. Give an example of the following conditions:\n",
    "(i) Homogeneous list\n",
    "(ii) Heterogeneous set\n",
    "(iii) Homogeneous tuple"
   ]
  },
  {
   "cell_type": "code",
   "execution_count": 9,
   "id": "1b9b1a69",
   "metadata": {},
   "outputs": [
    {
     "name": "stdout",
     "output_type": "stream",
     "text": [
      "<class 'list'>\n",
      "[1, 2, 3, 4, 5, 6]\n",
      "<class 'set'>\n",
      "{1, 2, 3, 4, 5}\n",
      "<class 'tuple'>\n",
      "(1, 1, 22, 33, 4, 5, 5, 6, 6, 7, 8)\n"
     ]
    }
   ],
   "source": [
    "# (i) Homogeneous list\n",
    "l = [1,2,3,4,5,6]\n",
    "print(type(l))\n",
    "print(l)\n",
    "# (ii) Heterogeneous set\n",
    "s={1,2,3,4,5}\n",
    "print(type(s))\n",
    "print(s)\n",
    "\n",
    "# (iii) Homogeneous tuple\n",
    "t=(1,1,22,33,4,5,5,6,6,7,8)\n",
    "print(type(t))\n",
    "print(t)\n"
   ]
  },
  {
   "cell_type": "code",
   "execution_count": null,
   "id": "6bc20b77",
   "metadata": {},
   "outputs": [],
   "source": [
    "# Q.8. Explain the mutable and immutable data types with proper explanation & examples"
   ]
  },
  {
   "cell_type": "code",
   "execution_count": 11,
   "id": "6b2e426f",
   "metadata": {},
   "outputs": [
    {
     "name": "stdout",
     "output_type": "stream",
     "text": [
      "10\n",
      "15\n",
      "[1, 2, 3, 4, 5]\n",
      "[1, 2, 3, 4, 5, 6]\n",
      "[10, 2, 3, 4, 5, 6]\n"
     ]
    },
    {
     "data": {
      "text/plain": [
       "'\\nUnderstanding whether a data type is mutable or immutable is crucial because it affects \\nhow you can modify and manipulate the values stored in variables of that type.\\nImmutable data types guarantee that their values remain intact, \\nwhile mutable data types allow for changes to be made to their internal state.\\n'"
      ]
     },
     "execution_count": 11,
     "metadata": {},
     "output_type": "execute_result"
    }
   ],
   "source": [
    "# Immutable Data Types:\n",
    "\n",
    "'''\n",
    "Immutable objects cannot be modified once they are created. Any attempt to change their value will result in creating a new object.\n",
    "Examples of immutable data types in Python include integers, floats, booleans, strings, and tuples.\n",
    "Here's an example illustrating immutability:\n",
    "\n",
    "'''\n",
    "x = 10\n",
    "print(x)  # Output: 10\n",
    "\n",
    "x = x + 5  # This creates a new object with the value 15\n",
    "print(x)  # Output: 15\n",
    "\n",
    "\n",
    "# Mutable Data Types:\n",
    "'''\n",
    "Mutable objects can be modified after they are created. They allow changes to their internal state or elements without creating a new object.\n",
    "Examples of mutable data types in Python include lists, dictionaries, and sets.\n",
    "Here's an example demonstrating mutability:\n",
    "python\n",
    "Copy code\n",
    "'''\n",
    "numbers = [1, 2, 3, 4, 5]\n",
    "print(numbers)  # Output: [1, 2, 3, 4, 5]\n",
    "\n",
    "numbers.append(6)  # Modifying the list in-place\n",
    "print(numbers)  # Output: [1, 2, 3, 4, 5, 6]\n",
    "\n",
    "numbers[0] = 10  # Modifying an element of the list\n",
    "print(numbers)  # Output: [10, 2, 3, 4, 5, 6]\n",
    "'''\n",
    "Understanding whether a data type is mutable or immutable is crucial because it affects \n",
    "how you can modify and manipulate the values stored in variables of that type.\n",
    "Immutable data types guarantee that their values remain intact, \n",
    "while mutable data types allow for changes to be made to their internal state.\n",
    "'''"
   ]
  },
  {
   "cell_type": "code",
   "execution_count": null,
   "id": "c82d3a80",
   "metadata": {},
   "outputs": [],
   "source": [
    "Q.9. Write a code to create the given structure using only for loop.\n",
    "*\n",
    "***\n",
    "*****\n",
    "*******\n",
    "*********\n"
   ]
  },
  {
   "cell_type": "code",
   "execution_count": 12,
   "id": "d76c2d5b",
   "metadata": {},
   "outputs": [
    {
     "name": "stdout",
     "output_type": "stream",
     "text": [
      "*\n",
      "**\n",
      "***\n",
      "****\n",
      "*****\n"
     ]
    }
   ],
   "source": [
    "rows = 5\n",
    "\n",
    "for i in range(rows):\n",
    "    for j in range(i + 1):\n",
    "        print(\"*\", end=\"\")\n",
    "    print()\n"
   ]
  },
  {
   "cell_type": "code",
   "execution_count": 14,
   "id": "5ffb8621",
   "metadata": {},
   "outputs": [],
   "source": [
    "Q.10. Write a code to create the given structure using while loop.\n",
    "|||||||||\n",
    "|||||||\n",
    "|||||\n",
    "|||\n"
   ]
  },
  {
   "cell_type": "code",
   "execution_count": 18,
   "id": "a2a19595",
   "metadata": {},
   "outputs": [
    {
     "name": "stdout",
     "output_type": "stream",
     "text": [
      "||||||||\n",
      "||||||\n",
      "||||\n",
      "||\n"
     ]
    }
   ],
   "source": [
    "rows = 4\n",
    "count = rows\n",
    "\n",
    "while count >= 1:\n",
    "    print(\"|\" * (2 * count))\n",
    "    count -= 1\n"
   ]
  },
  {
   "cell_type": "code",
   "execution_count": 19,
   "id": "272ea339",
   "metadata": {},
   "outputs": [
    {
     "name": "stdout",
     "output_type": "stream",
     "text": [
      "*\n",
      "**\n",
      "***\n",
      "****\n",
      "*****\n"
     ]
    }
   ],
   "source": []
  },
  {
   "cell_type": "code",
   "execution_count": null,
   "id": "1a467b95",
   "metadata": {},
   "outputs": [],
   "source": []
  }
 ],
 "metadata": {
  "kernelspec": {
   "display_name": "Python 3 (ipykernel)",
   "language": "python",
   "name": "python3"
  },
  "language_info": {
   "codemirror_mode": {
    "name": "ipython",
    "version": 3
   },
   "file_extension": ".py",
   "mimetype": "text/x-python",
   "name": "python",
   "nbconvert_exporter": "python",
   "pygments_lexer": "ipython3",
   "version": "3.9.13"
  }
 },
 "nbformat": 4,
 "nbformat_minor": 5
}
