{
 "cells": [
  {
   "cell_type": "markdown",
   "id": "4202fbf2",
   "metadata": {},
   "source": [
    "### 1. What is the primary goal of Object-Oriented Programming (OOP)?"
   ]
  },
  {
   "cell_type": "raw",
   "id": "e4eab405",
   "metadata": {},
   "source": [
    "1 The primary goal of Object-Oriented Programming (OOP) is to help us organize and manage our code better. \n",
    "2 It provides a way to think about and structure our programs by grouping similar things together and giving them specific   roles and behaviors."
   ]
  },
  {
   "cell_type": "markdown",
   "id": "27a77521",
   "metadata": {},
   "source": [
    "### 2. What is an object in Python?"
   ]
  },
  {
   "cell_type": "raw",
   "id": "c699f7a5",
   "metadata": {},
   "source": [
    "In Python, \n",
    "an object is like a special thing that we can create. \n",
    "It can have its own characteristics and can do certain actions. \n",
    "\n",
    "For example,\n",
    "we can create an object called \"cat\" that has features like color and size, and it can perform actions like meowing or running."
   ]
  },
  {
   "cell_type": "markdown",
   "id": "b569eca2",
   "metadata": {},
   "source": [
    "### 3. What is a class in Python?"
   ]
  },
  {
   "cell_type": "raw",
   "id": "227a925e",
   "metadata": {},
   "source": [
    "A class in Python is like a blueprint or a template for creating objects. \n",
    "It defines what an object should look like and what it can do. \n",
    "Just like a blueprint helps in building a house, \n",
    "a class helps in creating objects with specific characteristics and behaviors."
   ]
  },
  {
   "cell_type": "markdown",
   "id": "630b4c91",
   "metadata": {},
   "source": [
    "### 4. What are attributes and methods in a class?"
   ]
  },
  {
   "cell_type": "raw",
   "id": "27c956d9",
   "metadata": {},
   "source": [
    "Attributes in a class are the characteristics or properties that describe an object.\n",
    "\n",
    "For example,\n",
    "if we have a class called \"Car,\" \n",
    "its attributes could be things like color, brand, and speed.\n",
    "\n",
    "Methods, \n",
    "on the other hand, are the actions or behaviors that an object can perform. \n",
    "In the \"Car\" class, methods could be starting the engine, accelerating, or braking."
   ]
  },
  {
   "cell_type": "markdown",
   "id": "f92a3db9",
   "metadata": {},
   "source": [
    "### 5. What is the difference between class variables and instance variables in Python?"
   ]
  },
  {
   "cell_type": "raw",
   "id": "531339d1",
   "metadata": {},
   "source": [
    "The difference between class variables and instance variables in Python is\n",
    "That class variables are shared among all objects of a class,\n",
    "while instance variables are unique to each object. \n",
    "Class variables are defined within the class and remain the same for all objects,\n",
    "whereas instance variables are defined inside methods and vary from object to object."
   ]
  },
  {
   "cell_type": "markdown",
   "id": "e7682c65",
   "metadata": {},
   "source": [
    "### 6. What is the purpose of the self parameter in Python class methods?"
   ]
  },
  {
   "cell_type": "raw",
   "id": "32809bb0",
   "metadata": {},
   "source": [
    "The purpose of the \"self\" parameter in Python class methods is to refer to the specific object that is calling the method. \n",
    "It allows the object to access its own attributes and methods.\n",
    "By using \"self,\" \n",
    "we can differentiate between the attributes and methods of different objects created from the same class."
   ]
  },
  {
   "cell_type": "raw",
   "id": "3179bfe1",
   "metadata": {},
   "source": [
    "For a library management system, you have to design the \"Book\" class with OOP\n",
    "principles in mind. The “Book” class will have following attributes:\n",
    "a. title: Represents the title of the book.\n",
    "b. author: Represents the author(s) of the book.\n",
    "c. isbn: Represents the ISBN (International Standard Book Number) of the book.\n",
    "d. publication_year: Represents the year of publication of the book.\n",
    "e. available_copies: Represents the number of copies available for checkout.\n",
    "The class will also include the following methods:\n",
    "a. check_out(self): Decrements the available copies by one if there are copies\n",
    "available for checkout.\n",
    "b. return_book(self): Increments the available copies by one when a book is\n",
    "returned.\n",
    "c. display_book_info(self): Displays the information about the book, including its\n",
    "attributes and the number of available copies."
   ]
  },
  {
   "cell_type": "code",
   "execution_count": 21,
   "id": "377e8d06",
   "metadata": {},
   "outputs": [],
   "source": [
    "class Book:\n",
    "    def __init__(self,title,author,isbn,publication_year,available_copies=0):\n",
    "        self.title = title\n",
    "        self.author = author\n",
    "        self.isbn = isbn\n",
    "        self.publication_year = publication_year\n",
    "        self.available_copies = available_copies\n",
    "        \n",
    "    def check_out(self,decrement_copies):\n",
    "        if self.available_copies>0:\n",
    "            self.available_copies-=decrement_copies\n",
    "            print(f\"A copy of '{self.title}' has been checked out.\")\n",
    "        else:\n",
    "            print(f\"Sorry, '{self.title}' is currently not available for checkout.\")\n",
    "            \n",
    "    def return_book(self,returned):\n",
    "        self.available_copies +=returned\n",
    "        print(f\"A copy of '{self.title}' has been returned.\")\n",
    "    \n",
    "    def display_book_info(self):\n",
    "        print(f\"Title: {self.title}\")\n",
    "        print(f\"Author: {self.author}\")\n",
    "        print(f\"ISBN: {self.isbn}\")\n",
    "        print(f\"Publication Year: {self.publication_year}\")\n",
    "        print(f\"Available Copies: {self.available_copies}\")\n",
    "\n"
   ]
  },
  {
   "cell_type": "code",
   "execution_count": 22,
   "id": "f98f5327",
   "metadata": {},
   "outputs": [],
   "source": [
    "book=Book('Python for Data Analysis','Wes McKinney',9781491957660,2017,10)"
   ]
  },
  {
   "cell_type": "code",
   "execution_count": 23,
   "id": "f4a43e0e",
   "metadata": {},
   "outputs": [],
   "source": [
    "book1=Book('Data Science for Business',9781449361327,2013,10)\n",
    "book2=Book('The Elements of Statistical Learning','Hastie, Robert Tibshirani, and Jerome Friedman',9780387848570,2009,10)\n",
    "book3=Book('Hands-On Machine Learning with Scikit-Learn, Keras, and TensorFlow',' Aurélien Géron',9781492032649,2019,10)\n",
    "book4=Book('Deep Learning','Ian Goodfellow, Yoshua Bengio, and Aaron Courville',9780262035613,2016,10)\n",
    "book5=Book('Data Science from Scratch: First Principles with Python','Joel Grus',9781492041139,2019,10)\n",
    "book6=Book('Python Data Science Handbook','Jake VanderPlas',9781491912058,2016,10)\n",
    "book7=Book('R for Data Science','Hadley Wickham and Garrett Grolemund',9781491910399,2017,10)\n",
    "book8=Book('Pattern Recognition and Machine Learning','Christopher M. Bishop',9780387310732,2006,10)\n",
    "book9=Book('Data Science for Dummies','Lillian Pierson',9781119327634,2017,10)"
   ]
  },
  {
   "cell_type": "code",
   "execution_count": 24,
   "id": "e82f14fb",
   "metadata": {},
   "outputs": [
    {
     "name": "stdout",
     "output_type": "stream",
     "text": [
      "Title: Python for Data Analysis\n",
      "Author: Wes McKinney\n",
      "ISBN: 9781491957660\n",
      "Publication Year: 2017\n",
      "Available Copies: 10\n"
     ]
    }
   ],
   "source": [
    "book.display_book_info()"
   ]
  },
  {
   "cell_type": "code",
   "execution_count": 25,
   "id": "10c7e030",
   "metadata": {},
   "outputs": [
    {
     "name": "stdout",
     "output_type": "stream",
     "text": [
      "A copy of 'Python for Data Analysis' has been checked out.\n"
     ]
    }
   ],
   "source": [
    "book.check_out(9)"
   ]
  },
  {
   "cell_type": "code",
   "execution_count": 30,
   "id": "80e5a101",
   "metadata": {},
   "outputs": [
    {
     "name": "stdout",
     "output_type": "stream",
     "text": [
      "Title: Python for Data Analysis\n",
      "Author: Wes McKinney\n",
      "ISBN: 9781491957660\n",
      "Publication Year: 2017\n",
      "Available Copies: 10\n"
     ]
    }
   ],
   "source": [
    "book.display_book_info()"
   ]
  },
  {
   "cell_type": "code",
   "execution_count": 29,
   "id": "47b1b0ae",
   "metadata": {},
   "outputs": [
    {
     "name": "stdout",
     "output_type": "stream",
     "text": [
      "A copy of 'Python for Data Analysis' has been returned.\n"
     ]
    }
   ],
   "source": [
    "book.return_book(4)"
   ]
  },
  {
   "cell_type": "raw",
   "id": "9fbdc49b",
   "metadata": {},
   "source": [
    "For a ticket booking system, you have to design the \"Ticket\" class with OOP\n",
    "principles in mind. The “Ticket” class should have the following attributes:\n",
    "a. ticket_id: Represents the unique identifier for the ticket.\n",
    "b. event_name: Represents the name of the event.\n",
    "c. event_date: Represents the date of the event.\n",
    "d. venue: Represents the venue of the event.\n",
    "e. seat_number: Represents the seat number associated with the ticket.\n",
    "f. price: Represents the price of the ticket.\n",
    "g. is_reserved: Represents the reservation status of the ticket.\n",
    "The class also includes the following methods:\n",
    "a. reserve_ticket(self): Marks the ticket as reserved if it is not already reserved.\n",
    "b. cancel_reservation(self): Cancels the reservation of the ticket if it is already\n",
    "reserved.\n",
    "c. display_ticket_info(self): Displays the information"
   ]
  },
  {
   "cell_type": "code",
   "execution_count": 42,
   "id": "d00011d8",
   "metadata": {},
   "outputs": [],
   "source": [
    "class Ticket:\n",
    "    def __init__(self, ticket_id, event_name, event_date, venue, seat_number, price, is_reserved=False):\n",
    "        # Initializes the Ticket object with the provided attributes and a default reservation status of False.\n",
    "        #the default status is false because we should confim it from our side\n",
    "        self.ticket_id = ticket_id\n",
    "        self.event_name = event_name\n",
    "        self.event_date = event_date\n",
    "        self.venue = venue\n",
    "        self.seat_number = seat_number\n",
    "        self.price = price\n",
    "        self.is_reserved = is_reserved\n",
    "\n",
    "    def reserve_ticket(self):\n",
    "        # Marks the ticket as reserved if it is not already reserved.\n",
    "        if not self.is_reserved:\n",
    "            self.is_reserved = True\n",
    "            print(f\"Ticket {self.ticket_id} has been reserved.\")\n",
    "        else:\n",
    "            print(f\"Ticket {self.ticket_id} is already reserved.\")\n",
    "\n",
    "    def cancel_reservation(self):\n",
    "        # Cancels the reservation of the ticket if it is already reserved.\n",
    "        if self.is_reserved:\n",
    "            self.is_reserved = False\n",
    "            print(f\"Reservation for Ticket {self.ticket_id} has been cancelled.\")\n",
    "        else:\n",
    "            print(f\"Ticket {self.ticket_id} is not reserved.\")\n",
    "\n",
    "    def display_ticket_info(self):\n",
    "        # Displays the information about the ticket, including its attributes and reservation status.\n",
    "        print(f\"Ticket ID: {self.ticket_id}\")\n",
    "        print(f\"Event Name: {self.event_name}\")\n",
    "        print(f\"Event Date: {self.event_date}\")\n",
    "        print(f\"Venue: {self.venue}\")\n",
    "        print(f\"Seat Number: {self.seat_number}\")\n",
    "        print(f\"Price: {self.price}\")\n",
    "        print(f\"Reservation Status: {'Reserved' if self.is_reserved else 'Not Reserved'}\")\n"
   ]
  },
  {
   "cell_type": "code",
   "execution_count": 43,
   "id": "4324f8eb",
   "metadata": {},
   "outputs": [
    {
     "name": "stdout",
     "output_type": "stream",
     "text": [
      "Ticket ID: T123\n",
      "Event Name: Concert\n",
      "Event Date: 2023-08-15\n",
      "Venue: Music Hall\n",
      "Seat Number: A12\n",
      "Price: 50.0\n",
      "Reservation Status: Not Reserved\n"
     ]
    }
   ],
   "source": [
    "# Create a ticket instance\n",
    "ticket1 = Ticket(\"T123\", \"Concert\", \"2023-08-15\", \"Music Hall\", \"A12\", 50.00)\n",
    "\n",
    "# Display ticket information\n",
    "ticket1.display_ticket_info()"
   ]
  },
  {
   "cell_type": "code",
   "execution_count": 44,
   "id": "12ce84cb",
   "metadata": {},
   "outputs": [
    {
     "name": "stdout",
     "output_type": "stream",
     "text": [
      "Ticket T123 has been reserved.\n"
     ]
    }
   ],
   "source": [
    "ticket1.reserve_ticket()\n"
   ]
  },
  {
   "cell_type": "code",
   "execution_count": 48,
   "id": "527f2450",
   "metadata": {},
   "outputs": [
    {
     "name": "stdout",
     "output_type": "stream",
     "text": [
      "Ticket T123 has been reserved.\n"
     ]
    }
   ],
   "source": [
    "# Reserve the ticket\n",
    "ticket1.reserve_ticket()\n",
    "\n"
   ]
  },
  {
   "cell_type": "code",
   "execution_count": 46,
   "id": "87584cfe",
   "metadata": {},
   "outputs": [
    {
     "name": "stdout",
     "output_type": "stream",
     "text": [
      "Reservation for Ticket T123 has been cancelled.\n"
     ]
    }
   ],
   "source": [
    "# Cancel the reservation\n",
    "ticket1.cancel_reservation()\n",
    "\n"
   ]
  },
  {
   "cell_type": "code",
   "execution_count": 49,
   "id": "c0f6381a",
   "metadata": {},
   "outputs": [
    {
     "name": "stdout",
     "output_type": "stream",
     "text": [
      "Ticket ID: T123\n",
      "Event Name: Concert\n",
      "Event Date: 2023-08-15\n",
      "Venue: Music Hall\n",
      "Seat Number: A12\n",
      "Price: 50.0\n",
      "Reservation Status: Reserved\n"
     ]
    }
   ],
   "source": [
    "# Display updated ticket information\n",
    "ticket1.display_ticket_info()\n"
   ]
  },
  {
   "cell_type": "raw",
   "id": "63ac7dbf",
   "metadata": {},
   "source": [
    "You are creating a shopping cart for an e-commerce website. Using OOP to model\n",
    "the \"ShoppingCart\" functionality the class should contain following attributes and\n",
    "methods:\n",
    "a. items: Represents the list of items in the shopping cart.\n",
    "The class also includes the following methods:\n",
    "\n",
    "a. add_item(self, item): Adds an item to the shopping cart by aappending it to the\n",
    "list of items.\n",
    "b. remove_item(self, item): Removes an item from the shopping cart if it exists in\n",
    "the list.\n",
    "c. view_cart(self): Displays the items currently present in the shopping cart.\n",
    "d. clear_cart(self): Clears all items from the shopping cart by reassigning an\n",
    "empty list to the items attribute."
   ]
  },
  {
   "cell_type": "code",
   "execution_count": 65,
   "id": "aaee6995",
   "metadata": {},
   "outputs": [],
   "source": [
    "class ShoppingCart:\n",
    "    def __init__(self):\n",
    "        self.items = []\n",
    "        \n",
    "    def add_items(self,item):\n",
    "        self.items.append(list(item))\n",
    "        print(f\"Item '{item}' has been added to the shopping cart.\")\n",
    "    \n",
    "    def remove_item(self, item):\n",
    "        if item in self.items:\n",
    "            self.items.remove(item)\n",
    "            print(f\"Item '{item}' has been removed from the shopping cart.\")\n",
    "        else:\n",
    "            print(f\"Item '{item}' is not present in the shopping cart.\")\n",
    "    \n",
    "    def view_cart(self):\n",
    "        if self.items:\n",
    "            print(\"Items in the shopping cart:\")\n",
    "            #for item in self.items:\n",
    "            return (f\"- {self.items}\")\n",
    "        else:\n",
    "            print(\"The shopping cart is empty.\")\n",
    "    \n",
    "    def clear_cart(self):\n",
    "        self.items=[]\n",
    "        print(\"The shopping cart has been cleared.\")\n",
    "        \n",
    "    "
   ]
  },
  {
   "cell_type": "code",
   "execution_count": 67,
   "id": "8a4abadc",
   "metadata": {},
   "outputs": [
    {
     "name": "stdout",
     "output_type": "stream",
     "text": [
      "Item 'Shirt' has been added to the shopping cart.\n",
      "Item 'Pants' has been added to the shopping cart.\n",
      "Items in the shopping cart:\n"
     ]
    },
    {
     "data": {
      "text/plain": [
       "\"- [['S', 'h', 'i', 'r', 't'], ['P', 'a', 'n', 't', 's']]\""
      ]
     },
     "execution_count": 67,
     "metadata": {},
     "output_type": "execute_result"
    }
   ],
   "source": [
    "cart = ShoppingCart()\n",
    "\n",
    "cart.add_items(\"Shirt\")\n",
    "cart.add_items(\"Pants\")\n",
    "cart.view_cart()"
   ]
  },
  {
   "cell_type": "code",
   "execution_count": 68,
   "id": "47df96c2",
   "metadata": {},
   "outputs": [
    {
     "name": "stdout",
     "output_type": "stream",
     "text": [
      "Item 'Shirt' is not present in the shopping cart.\n",
      "Items in the shopping cart:\n",
      "The shopping cart has been cleared.\n",
      "The shopping cart is empty.\n"
     ]
    }
   ],
   "source": [
    "cart.remove_item(\"Shirt\")\n",
    "cart.view_cart()\n",
    "\n",
    "cart.clear_cart()\n",
    "cart.view_cart()"
   ]
  },
  {
   "cell_type": "raw",
   "id": "238f784e",
   "metadata": {},
   "source": [
    "10. Imagine a school management system. You have to design the \"Student\" class using\n",
    "OOP concepts.The “Student” class has the following attributes:\n",
    "a. name: Represents the name of the student.\n",
    "b. age: Represents the age of the student.\n",
    "c. grade: Represents the grade or class of the student.\n",
    "d. student_id: Represents the unique identifier for the student.\n",
    "e. attendance: Represents the attendance record of the student.\n",
    "The class should also include the following methods:\n",
    "a. update_attendance(self, date, status): Updates the attendance record of the\n",
    "student for a given date with the provided status (e.g., present or absent).\n",
    "b. get_attendance(self): Returns the attendance record of the student.\n",
    "c. get_average_attendance(self): Calculates and returns the average\n",
    "attendance percentage of the student based on their attendance record."
   ]
  },
  {
   "cell_type": "code",
   "execution_count": 69,
   "id": "4becf194",
   "metadata": {},
   "outputs": [],
   "source": [
    "class Student:\n",
    "    def __init__(self, name, age, grade, student_id):\n",
    "        self.name = name\n",
    "        self.age = age\n",
    "        self.grade = grade\n",
    "        self.student_id = student_id\n",
    "        self.attendance = {}\n",
    "        #The keys represent the dates and the values represent the attendance status (e.g., 'present' or 'absent').\n",
    "        #so i added a empty dictionary toget the key value pair combination\n",
    "\n",
    "    def update_attendance(self, date, status):\n",
    "        self.attendance[date] = status\n",
    "\n",
    "    def get_attendance(self):\n",
    "        return self.attendance\n",
    "\n",
    "    def get_average_attendance(self):\n",
    "        total_days = len(self.attendance)\n",
    "        present_days = sum(1 for status in self.attendance.values() if status.lower() == 'present')\n",
    "        if total_days > 0:\n",
    "            average_attendance = (present_days / total_days) * 100\n",
    "            return round(average_attendance, 2)\n",
    "        else:\n",
    "            return 0.0\n"
   ]
  },
  {
   "cell_type": "code",
   "execution_count": 70,
   "id": "4089babb",
   "metadata": {},
   "outputs": [
    {
     "name": "stdout",
     "output_type": "stream",
     "text": [
      "{'2023-07-10': 'present', '2023-07-11': 'absent', '2023-07-12': 'present'}\n",
      "Average Attendance: 66.67%\n"
     ]
    }
   ],
   "source": [
    "# Create a student instance\n",
    "student1 = Student(\"John Doe\", 15, 10, \"S001\")\n",
    "\n",
    "# Update attendance\n",
    "student1.update_attendance(\"2023-07-10\", \"present\")\n",
    "student1.update_attendance(\"2023-07-11\", \"absent\")\n",
    "student1.update_attendance(\"2023-07-12\", \"present\")\n",
    "\n",
    "# Get attendance record\n",
    "attendance_record = student1.get_attendance()\n",
    "print(attendance_record)\n",
    "\n",
    "# Get average attendance\n",
    "average_attendance = student1.get_average_attendance()\n",
    "print(f\"Average Attendance: {average_attendance}%\")\n"
   ]
  },
  {
   "cell_type": "code",
   "execution_count": null,
   "id": "2af381df",
   "metadata": {},
   "outputs": [],
   "source": []
  }
 ],
 "metadata": {
  "kernelspec": {
   "display_name": "Python 3 (ipykernel)",
   "language": "python",
   "name": "python3"
  },
  "language_info": {
   "codemirror_mode": {
    "name": "ipython",
    "version": 3
   },
   "file_extension": ".py",
   "mimetype": "text/x-python",
   "name": "python",
   "nbconvert_exporter": "python",
   "pygments_lexer": "ipython3",
   "version": "3.9.13"
  }
 },
 "nbformat": 4,
 "nbformat_minor": 5
}
