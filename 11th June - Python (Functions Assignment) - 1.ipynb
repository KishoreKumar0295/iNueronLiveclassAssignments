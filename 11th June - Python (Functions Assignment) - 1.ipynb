{
 "cells": [
  {
   "cell_type": "markdown",
   "id": "d0e3ddf1",
   "metadata": {},
   "source": [
    "# 1. What is a lambda function in Python, and how does it differ from a regular function?"
   ]
  },
  {
   "cell_type": "markdown",
   "id": "4c99a3bc",
   "metadata": {},
   "source": [
    "A lambda function in Python is a compact and anonymous function that doesn't require a name. It is defined using the lambda keyword, followed by input parameters and an expression. Lambda functions are commonly used when we need a quick and simple function without the need for a formal function declaration.\n",
    "\n",
    "Lambda functions differ from regular functions in a few ways:\n",
    "\n",
    "They don't have a name and are defined inline.\n",
    "Their syntax is concise and consists of a single line.\n",
    "They are limited to a single expression and can't contain multiple statements.\n",
    "They automatically return the result of the expression without needing a return statement.\n",
    "Lambda functions are often used in combination with other functions like map(), filter(), and reduce() to perform operations on collections of data.\n",
    "\n",
    "Here's a simple example of a lambda function that doubles a given number:"
   ]
  },
  {
   "cell_type": "code",
   "execution_count": 1,
   "id": "799061d3",
   "metadata": {},
   "outputs": [],
   "source": [
    "double = lambda x: x * 2\n",
    "result = double(5)  # Output: 10\n"
   ]
  },
  {
   "cell_type": "markdown",
   "id": "dfea0c66",
   "metadata": {},
   "source": [
    "# 2. Can a lambda function in Python have multiple arguments? If yes, how can you define and use them?"
   ]
  },
  {
   "cell_type": "markdown",
   "id": "0ada6968",
   "metadata": {},
   "source": [
    "a lambda function in Python can have multiple arguments. When defining a lambda function with multiple arguments, you separate them with commas within the parentheses.\n",
    "\n",
    "Here's an example:\n"
   ]
  },
  {
   "cell_type": "code",
   "execution_count": 3,
   "id": "358c8ba9",
   "metadata": {},
   "outputs": [],
   "source": [
    "add = lambda x, y: x + y\n",
    "result = add(3, 5)  # Output: 8\n"
   ]
  },
  {
   "cell_type": "markdown",
   "id": "cf26b7e2",
   "metadata": {},
   "source": [
    "# Lambda functions\n",
    "are typically used in Python when a small, one-time function is needed without the need for a separate function declaration. They are commonly used with higher-order functions like map(), filter(), and reduce(). For example, using a lambda function with map() to double all elements in a list:"
   ]
  },
  {
   "cell_type": "code",
   "execution_count": 8,
   "id": "ae1f1d13",
   "metadata": {},
   "outputs": [],
   "source": [
    "numbers = [1, 2, 3, 4, 5]\n",
    "doubled_numbers = list(map(lambda x: x * 2, numbers))\n"
   ]
  },
  {
   "cell_type": "markdown",
   "id": "123b778d",
   "metadata": {},
   "source": [
    "Advantages of lambda functions in Python include their concise syntax, ability to be defined inline, and simplicity for short, one-time operations. However, they have limitations such as being limited to a single expression and not supporting multiple statements or complex logic."
   ]
  },
  {
   "cell_type": "markdown",
   "id": "355dbb3f",
   "metadata": {},
   "source": [
    "Lambda functions in Python can access variables defined outside of their own scope, including global variables. Here's an example:"
   ]
  },
  {
   "cell_type": "code",
   "execution_count": 9,
   "id": "d234b604",
   "metadata": {},
   "outputs": [],
   "source": [
    "x = 5\n",
    "y = 10\n",
    "my_lambda = lambda a: a + x + y\n",
    "result = my_lambda(3)  # Output: 18"
   ]
  },
  {
   "cell_type": "code",
   "execution_count": 10,
   "id": "bd779469",
   "metadata": {},
   "outputs": [],
   "source": [
    "# Lambda function to calculate the square of a given number:\n",
    "square = lambda x: x**2\n",
    "result = square(5)  # Output: 25\n"
   ]
  },
  {
   "cell_type": "code",
   "execution_count": 11,
   "id": "a85d1eb8",
   "metadata": {},
   "outputs": [],
   "source": [
    "# Lambda function to find the maximum value in a list of integers:\n",
    "numbers = [10, 5, 20, 15]\n",
    "max_value = max(numbers, key=lambda x: x)\n"
   ]
  },
  {
   "cell_type": "code",
   "execution_count": 12,
   "id": "8d710eca",
   "metadata": {},
   "outputs": [],
   "source": [
    "# Lambda function to filter out all the even numbers from a list of integers:\n",
    "numbers = [1, 2, 3, 4, 5]\n",
    "even_numbers = list(filter(lambda x: x % 2 == 0, numbers))\n"
   ]
  },
  {
   "cell_type": "code",
   "execution_count": 13,
   "id": "c1dff86e",
   "metadata": {},
   "outputs": [],
   "source": [
    "# Lambda function to sort a list of strings in ascending order based on the length of each string:\n",
    "strings = [\"apple\", \"banana\", \"cat\", \"dog\"]\n",
    "sorted_strings = sorted(strings, key=lambda x: len(x))\n"
   ]
  },
  {
   "cell_type": "code",
   "execution_count": 14,
   "id": "fdcf7f99",
   "metadata": {},
   "outputs": [],
   "source": [
    "# Lambda function that takes two lists as input and returns a new list containing the common elements between the two lists:\n",
    "list1 = [1, 2, 3, 4, 5]\n",
    "list2 = [4, 5, 6, 7, 8]\n",
    "common_elements = list(filter(lambda x: x in list1, list2))\n"
   ]
  },
  {
   "cell_type": "code",
   "execution_count": 15,
   "id": "b27acc1a",
   "metadata": {},
   "outputs": [],
   "source": [
    "# Recursive function to calculate the factorial of a given positive integer:\n",
    "def factorial(n):\n",
    "    if n == 0:\n",
    "        return 1\n",
    "    else:\n",
    "        return n * factorial(n-1)\n"
   ]
  },
  {
   "cell_type": "code",
   "execution_count": 16,
   "id": "f20a8167",
   "metadata": {},
   "outputs": [],
   "source": [
    "# Recursive function to compute the nth Fibonacci number:\n",
    "def fibonacci(n):\n",
    "    if n <= 1:\n",
    "        return n\n",
    "    else:\n",
    "        return fibonacci(n-1) + fibonacci(n-2)\n"
   ]
  },
  {
   "cell_type": "code",
   "execution_count": 17,
   "id": "9fe863ba",
   "metadata": {},
   "outputs": [],
   "source": [
    "# Recursive function to find the sum of all the elements in a given list:\n",
    "def sum_list(lst):\n",
    "    if not lst:\n",
    "        return 0\n",
    "    else:\n",
    "        return lst[0] + sum_list(lst[1:])\n"
   ]
  },
  {
   "cell_type": "code",
   "execution_count": 18,
   "id": "64c56227",
   "metadata": {},
   "outputs": [],
   "source": [
    "# Recursive function to determine whether a given string is a palindrome:\n",
    "def is_palindrome(s):\n",
    "    if len(s) <= 1:\n",
    "        return True\n",
    "    elif s[0] == s[-1]:\n",
    "        return is_palindrome(s[1:-1])\n",
    "    else:\n",
    "        return False\n"
   ]
  },
  {
   "cell_type": "code",
   "execution_count": 19,
   "id": "51a1cb56",
   "metadata": {},
   "outputs": [],
   "source": [
    "# Recursive function to find the greatest common divisor (GCD) of two positive integers:\n",
    "def gcd(a, b):\n",
    "    if b == 0:\n",
    "        return a\n",
    "    else:\n",
    "        return gcd(b, a % b)\n"
   ]
  },
  {
   "cell_type": "code",
   "execution_count": null,
   "id": "87d0a926",
   "metadata": {},
   "outputs": [],
   "source": []
  },
  {
   "cell_type": "code",
   "execution_count": null,
   "id": "383daec1",
   "metadata": {},
   "outputs": [],
   "source": []
  },
  {
   "cell_type": "code",
   "execution_count": null,
   "id": "fa972a03",
   "metadata": {},
   "outputs": [],
   "source": []
  },
  {
   "cell_type": "code",
   "execution_count": null,
   "id": "d9c7e9d8",
   "metadata": {},
   "outputs": [],
   "source": []
  }
 ],
 "metadata": {
  "kernelspec": {
   "display_name": "Python 3 (ipykernel)",
   "language": "python",
   "name": "python3"
  },
  "language_info": {
   "codemirror_mode": {
    "name": "ipython",
    "version": 3
   },
   "file_extension": ".py",
   "mimetype": "text/x-python",
   "name": "python",
   "nbconvert_exporter": "python",
   "pygments_lexer": "ipython3",
   "version": "3.9.13"
  }
 },
 "nbformat": 4,
 "nbformat_minor": 5
}
