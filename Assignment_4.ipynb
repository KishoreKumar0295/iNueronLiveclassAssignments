{
 "cells": [
  {
   "cell_type": "code",
   "execution_count": 1,
   "id": "c882538a",
   "metadata": {},
   "outputs": [
    {
     "data": {
      "text/plain": [
       "'\\n[] it is used to define list\\n\\nl=[]\\nfor i in range(100):\\n    l.append(i)\\nprint(l)\\n'"
      ]
     },
     "execution_count": 1,
     "metadata": {},
     "output_type": "execute_result"
    }
   ],
   "source": [
    "# Assignment_1\n",
    "# 1. What exactly is []?\n",
    "'''\n",
    "[] it is used to define list\n",
    "\n",
    "Example:\n",
    "l=[] ---> to append a list of values based on filter / condtion append it into a empyt list purpose it will be used\n",
    "for i in range(100):\n",
    "    l.append(i)\n",
    "print(l)\n",
    "'''"
   ]
  },
  {
   "cell_type": "code",
   "execution_count": 2,
   "id": "c37d1b8e",
   "metadata": {},
   "outputs": [
    {
     "name": "stdout",
     "output_type": "stream",
     "text": [
      "[0, 1, 2, 3, 4, 5, 6, 7, 8, 9, 10, 11, 12, 13, 14, 15, 16, 17, 18, 19, 20, 21, 22, 23, 24, 25, 26, 27, 28, 29, 30, 31, 32, 33, 34, 35, 36, 37, 38, 39, 40, 41, 42, 43, 44, 45, 46, 47, 48, 49, 50, 51, 52, 53, 54, 55, 56, 57, 58, 59, 60, 61, 62, 63, 64, 65, 66, 67, 68, 69, 70, 71, 72, 73, 74, 75, 76, 77, 78, 79, 80, 81, 82, 83, 84, 85, 86, 87, 88, 89, 90, 91, 92, 93, 94, 95, 96, 97, 98, 99]\n"
     ]
    }
   ],
   "source": [
    "\n",
    "l=[]\n",
    "for i in range(100):\n",
    "    l.append(i)\n",
    "print(l)"
   ]
  },
  {
   "cell_type": "code",
   "execution_count": 3,
   "id": "56c340d3",
   "metadata": {},
   "outputs": [],
   "source": [
    "# 2. In a list of values stored in a variable called spam, how would you assign the value 'hello' as the third value? \n",
    "# (Assume [2, 4, 6, 8, 10] are in spam.)"
   ]
  },
  {
   "cell_type": "code",
   "execution_count": 19,
   "id": "d092ac1e",
   "metadata": {},
   "outputs": [],
   "source": [
    "spam =[2, 4, 6, 8, 10]\n",
    "spam[2] # to get the 3rd values\n",
    "spam='hello' # to assign hollo in the 3rd possitiom"
   ]
  },
  {
   "cell_type": "code",
   "execution_count": 8,
   "id": "d7c25fa2",
   "metadata": {},
   "outputs": [
    {
     "data": {
      "text/plain": [
       "'d'"
      ]
     },
     "execution_count": 8,
     "metadata": {},
     "output_type": "execute_result"
    }
   ],
   "source": [
    "# Let's pretend the spam includes the list ['a', 'b', 'c', 'd'] for the next three queries.\n",
    "# 3. What is the value of spam[int(int('3' * 2) / 11)]?\n",
    "spam=['a', 'b', 'c', 'd']\n",
    "spam[int(int('3' * 2) / 11)]"
   ]
  },
  {
   "cell_type": "code",
   "execution_count": 12,
   "id": "f64ab6f1",
   "metadata": {},
   "outputs": [
    {
     "data": {
      "text/plain": [
       "'d'"
      ]
     },
     "execution_count": 12,
     "metadata": {},
     "output_type": "execute_result"
    }
   ],
   "source": [
    "#4. What is the value of spam[-1]?\n",
    "# it start indexing operation from reverse so the o/p will be d\n",
    "spam[-1]"
   ]
  },
  {
   "cell_type": "code",
   "execution_count": 13,
   "id": "b6e64e40",
   "metadata": {},
   "outputs": [
    {
     "data": {
      "text/plain": [
       "['a', 'b']"
      ]
     },
     "execution_count": 13,
     "metadata": {},
     "output_type": "execute_result"
    }
   ],
   "source": [
    "# 5. What is the value of spam[:2]?\n",
    "# in this indexing condition upto index position 2 it will return the values\n",
    "spam[:2]"
   ]
  },
  {
   "cell_type": "code",
   "execution_count": 16,
   "id": "7a5d114b",
   "metadata": {},
   "outputs": [
    {
     "data": {
      "text/plain": [
       "1"
      ]
     },
     "execution_count": 16,
     "metadata": {},
     "output_type": "execute_result"
    }
   ],
   "source": [
    "# Let's pretend bacon has the list [3.14, 'cat,' 11, 'cat,' True] for the next three questions.\n",
    "# 6. What is the value of bacon.index('cat')?\n",
    "bacon=[3.14, 'cat', 11, 'cat', True]\n",
    "bacon.index('cat') # by default it will consider the first apearing index value only so the o/p is 1"
   ]
  },
  {
   "cell_type": "code",
   "execution_count": 17,
   "id": "138968a2",
   "metadata": {},
   "outputs": [],
   "source": [
    "# 7. How does bacon.append(99) change the look of the list value in bacon?\n",
    "bacon.append(99) # it will add the 99 into the last index possiton"
   ]
  },
  {
   "cell_type": "code",
   "execution_count": 18,
   "id": "78d4493f",
   "metadata": {},
   "outputs": [
    {
     "data": {
      "text/plain": [
       "[3.14, 'cat', 11, 'cat', True, 99]"
      ]
     },
     "execution_count": 18,
     "metadata": {},
     "output_type": "execute_result"
    }
   ],
   "source": [
    "bacon"
   ]
  },
  {
   "cell_type": "code",
   "execution_count": 23,
   "id": "c5594f07",
   "metadata": {},
   "outputs": [
    {
     "data": {
      "text/plain": [
       "[3.14, 11, True, 99]"
      ]
     },
     "execution_count": 23,
     "metadata": {},
     "output_type": "execute_result"
    }
   ],
   "source": [
    "# 8. How does bacon.remove('cat') change the look of the list in bacon?\n",
    "bacon.remove('cat') # in this remove condtion it will search for 'cat' and remove the cat where ever it apears in the list\n",
    "bacon"
   ]
  },
  {
   "cell_type": "raw",
   "id": "df26fc5d",
   "metadata": {},
   "source": [
    "9. What are the list concatenation and list replication operators?\n",
    "\n",
    "list Concatenatio: \n",
    "The list concatenation operator in Python is the + operator, \n",
    "which combines two lists into a single list by appending the elements of the second list to the first list.\n",
    "\n",
    "list replication:\n",
    "The list replication operator in Python is the * operator, which replicates a list by creating multiple copies of the same list.\n",
    "\n",
    "Here are examples of both operators with the assumed spam list:\n",
    "\n"
   ]
  },
  {
   "cell_type": "code",
   "execution_count": 26,
   "id": "d2a6d1f2",
   "metadata": {},
   "outputs": [
    {
     "data": {
      "text/plain": [
       "['a', 'b', 'c', 'd', 'e', 'f', 'Kishore']"
      ]
     },
     "execution_count": 26,
     "metadata": {},
     "output_type": "execute_result"
    }
   ],
   "source": [
    "# list Concatenatio: \n",
    "# Ex:\n",
    "spam=['a', 'b', 'c', 'd']\n",
    "spam=spam+['e','f','Kishore'] # it will perform the concatenation operation using the + opereator\n",
    "spam "
   ]
  },
  {
   "cell_type": "code",
   "execution_count": 29,
   "id": "5320d2a2",
   "metadata": {},
   "outputs": [
    {
     "data": {
      "text/plain": [
       "['a', 'b', 'c', 'd', 'a', 'b', 'c', 'd']"
      ]
     },
     "execution_count": 29,
     "metadata": {},
     "output_type": "execute_result"
    }
   ],
   "source": [
    "# list replication: \n",
    "# Ex:\n",
    "spam=['a', 'b', 'c', 'd']\n",
    "spam=spam*2 # it will perform the replication operation using the * opereator by number given for how many times it should replicate\n",
    "spam "
   ]
  },
  {
   "cell_type": "code",
   "execution_count": 30,
   "id": "5903057c",
   "metadata": {},
   "outputs": [
    {
     "data": {
      "text/plain": [
       "['a', 'b', 'c', 'd', 'a', 'b', 'c', 'd']"
      ]
     },
     "execution_count": 30,
     "metadata": {},
     "output_type": "execute_result"
    }
   ],
   "source": [
    "# 10. What is difference between the list methods append() and insert()?\n",
    "# append() = it is used the append the elements into the list at very end\n",
    "# insert() = it is used to insert teh elements at required possition in the list\n",
    "spam"
   ]
  },
  {
   "cell_type": "code",
   "execution_count": 31,
   "id": "83e35756",
   "metadata": {},
   "outputs": [
    {
     "data": {
      "text/plain": [
       "['a', 'b', 'c', 'd', 'a', 'b', 'c', 'd', 'k']"
      ]
     },
     "execution_count": 31,
     "metadata": {},
     "output_type": "execute_result"
    }
   ],
   "source": [
    "spam.append('k') # it will add this k in the last in this list\n",
    "spam"
   ]
  },
  {
   "cell_type": "code",
   "execution_count": 32,
   "id": "b139d656",
   "metadata": {},
   "outputs": [
    {
     "data": {
      "text/plain": [
       "['a', 'b', 'c', 'King', 'd', 'a', 'b', 'c', 'd', 'k']"
      ]
     },
     "execution_count": 32,
     "metadata": {},
     "output_type": "execute_result"
    }
   ],
   "source": [
    "spam.insert(3,'King') # it will insert this king in the list by which index position it should add,syntax(index,object)\n",
    "spam"
   ]
  },
  {
   "cell_type": "code",
   "execution_count": 33,
   "id": "cc83cedf",
   "metadata": {},
   "outputs": [],
   "source": [
    "# 11. What are the two methods for removing items from a list?\n",
    "# 1. remove() # serch for certain value which we pass and removes that value where ever it appears in the list\n",
    "# 2. pop()  # by default it remove last value of the list until we don't pass the index possition\n",
    "# by using these two function we can remove a value in the list"
   ]
  },
  {
   "cell_type": "code",
   "execution_count": 34,
   "id": "991651af",
   "metadata": {},
   "outputs": [
    {
     "data": {
      "text/plain": [
       "['a', 'b', 'c', 'King', 'd', 'a', 'b', 'c', 'd']"
      ]
     },
     "execution_count": 34,
     "metadata": {},
     "output_type": "execute_result"
    }
   ],
   "source": [
    "spam.remove('k') # it used to remove the certain value apears in the list\n",
    "spam"
   ]
  },
  {
   "cell_type": "code",
   "execution_count": 35,
   "id": "50db8eca",
   "metadata": {},
   "outputs": [
    {
     "data": {
      "text/plain": [
       "['a', 'b', 'c', 'King', 'a', 'b', 'c', 'd']"
      ]
     },
     "execution_count": 35,
     "metadata": {},
     "output_type": "execute_result"
    }
   ],
   "source": [
    "spam.pop(4) # used index position to remove the values\n",
    "spam"
   ]
  },
  {
   "cell_type": "code",
   "execution_count": 37,
   "id": "1aae402b",
   "metadata": {},
   "outputs": [
    {
     "data": {
      "text/plain": [
       "['a', 'b', 'c', 'King', 'a', 'b', 'c']"
      ]
     },
     "execution_count": 37,
     "metadata": {},
     "output_type": "execute_result"
    }
   ],
   "source": [
    "spam.pop() # by default removed the last index position\n",
    "spam"
   ]
  },
  {
   "cell_type": "raw",
   "id": "704e96b1",
   "metadata": {},
   "source": [
    "# 12. Describe how list values and string values are identical.\n",
    "Different data types with distinct characteristics.\n",
    "In a list, the elements can be of any data type, while in a string, the elements are characters\n",
    "\n",
    "indexing and slicing:\n",
    "lists and strings support indexing and slicing. You can access individual elements of a list or a string by their position (index) using square brackets. \n",
    " Similarly, you can extract a portion of a list or a string using slicing notation.\n",
    " Iteration: \n",
    "Both lists and strings can be iterated over using loops. \n",
    "You can use a for loop to iterate over the elements of a list or the characters of a string.\n",
    "\n",
    "Concatenation: \n",
    "Both lists and strings can be concatenated using the + operator. \n",
    "In the case of lists, concatenation combines two lists into a single list.\n",
    "In the case of strings, concatenation combines two strings into a single string."
   ]
  },
  {
   "cell_type": "raw",
   "id": "9f01258e",
   "metadata": {},
   "source": [
    "# 13. What's the difference between tuples and lists?\n",
    "Mutability: \n",
    "Lists are mutable, which means you can modify, add, or remove elements after the list is created. \n",
    "Tuples, on the other hand, are immutable, meaning they cannot be changed once created. \n",
    "Once a tuple is defined, its elements cannot be modified.\n",
    "\n",
    "Syntax: \n",
    "Lists are defined using square brackets [ ], \n",
    "while tuples are defined using parentheses ( ). \n",
    "Ex: \n",
    "list is defined as [1, 2, 3], \n",
    "tuple is defined as (1, 2, 3).\n",
    "\n",
    "Purpose: \n",
    "Lists are commonly used when you have a collection of elements that may need to be modified or updated. \n",
    "Tuples, on the other hand, are typically used for fixed collections of elements that should not be modified.\n",
    "\n",
    "Performance: \n",
    "Since tuples are immutable, they provide a slight performance advantage over lists in certain operations. \n",
    "Tuples are more memory-efficient and offer faster iteration and access to elements.\n",
    "\n",
    "Usage: \n",
    "Lists are more versatile and commonly used for tasks such as storing and manipulating data, \n",
    "creating dynamic collections, or implementing data structures like stacks and queues. \n",
    "\n",
    "Tuples are often used for things like representing fixed data structures, returning multiple values from functions, or as keys in dictionaries."
   ]
  },
  {
   "cell_type": "code",
   "execution_count": 40,
   "id": "f952047b",
   "metadata": {},
   "outputs": [
    {
     "data": {
      "text/plain": [
       "42"
      ]
     },
     "execution_count": 40,
     "metadata": {},
     "output_type": "execute_result"
    }
   ],
   "source": [
    "# 14. How do you type a tuple value that only contains the integer 42?\n",
    "t=(42)\n",
    "t"
   ]
  },
  {
   "cell_type": "code",
   "execution_count": 46,
   "id": "c0886a31",
   "metadata": {},
   "outputs": [
    {
     "name": "stdout",
     "output_type": "stream",
     "text": [
      "(1, 2, 3, 4, 56, 7, 8, 9, 10)\n"
     ]
    },
    {
     "data": {
      "text/plain": [
       "tuple"
      ]
     },
     "execution_count": 46,
     "metadata": {},
     "output_type": "execute_result"
    }
   ],
   "source": [
    "# 15. How do you get a list value's tuple form? How do you get a tuple value's list form?\n",
    "l=[1,2,3,4,56,7,8,9,10]\n",
    "t=tuple(l)\n",
    "print(t)\n",
    "type(t)"
   ]
  },
  {
   "cell_type": "code",
   "execution_count": 47,
   "id": "89acec1f",
   "metadata": {},
   "outputs": [],
   "source": [
    "# 16. Variables that \"contain\" list values are not necessarily lists themselves. Instead, what do they contain?\n",
    "# Variables that \"contain\" list values in Python are actually references or pointers to the list objects in memory. \n",
    "# The variables themselves do not directly contain the list values; \n",
    "# they store the memory address where the list is stored.\n",
    "my_list = [1, 2, 3]\n",
    "another_list = my_list\n",
    "# what ever changes happen in my_list the same will reflect in another_list"
   ]
  },
  {
   "cell_type": "code",
   "execution_count": 48,
   "id": "64dd1ba1",
   "metadata": {},
   "outputs": [
    {
     "data": {
      "text/plain": [
       "[1, 2, 3]"
      ]
     },
     "execution_count": 48,
     "metadata": {},
     "output_type": "execute_result"
    }
   ],
   "source": [
    "my_list\n",
    "another_list"
   ]
  },
  {
   "cell_type": "code",
   "execution_count": 49,
   "id": "e33c3733",
   "metadata": {},
   "outputs": [],
   "source": [
    "# 17. How do you distinguish between copy.copy() and copy.deepcopy()?\n",
    "# copy.copy()\n",
    "    # It creates a new object and copies the references of the original object's elements to the new object.\n",
    "    # what ever changes hepen in the original object the same will reflect in the copied object\n",
    "# copy.deepcopy()\n",
    "    # It creates a completely independent copy of the original object, including all nested objects.\n",
    "    # any changes made to the copied object or its nested objects do not affect the original object."
   ]
  },
  {
   "cell_type": "code",
   "execution_count": null,
   "id": "3e40b8ab",
   "metadata": {},
   "outputs": [],
   "source": []
  }
 ],
 "metadata": {
  "kernelspec": {
   "display_name": "Python 3 (ipykernel)",
   "language": "python",
   "name": "python3"
  },
  "language_info": {
   "codemirror_mode": {
    "name": "ipython",
    "version": 3
   },
   "file_extension": ".py",
   "mimetype": "text/x-python",
   "name": "python",
   "nbconvert_exporter": "python",
   "pygments_lexer": "ipython3",
   "version": "3.9.13"
  }
 },
 "nbformat": 4,
 "nbformat_minor": 5
}
